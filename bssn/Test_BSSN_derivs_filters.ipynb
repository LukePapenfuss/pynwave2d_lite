{
 "cells": [
  {
   "cell_type": "code",
   "execution_count": 1,
   "id": "3a244373-79aa-49db-9a5b-b0e9553fb608",
   "metadata": {},
   "outputs": [],
   "source": [
    "import numpy as np\n",
    "import sys\n",
    "import os"
   ]
  },
  {
   "cell_type": "code",
   "execution_count": 2,
   "id": "59066c23-9804-4a32-8b06-9c958306f445",
   "metadata": {},
   "outputs": [],
   "source": [
    "import plotly.graph_objects as go"
   ]
  },
  {
   "cell_type": "code",
   "execution_count": 3,
   "id": "a91c2f9b-6436-4e76-b756-4688fa4b3fcc",
   "metadata": {},
   "outputs": [],
   "source": [
    "sys.path.append(os.path.abspath(os.path.join(\".\", \"..\")))\n",
    "import bssneqs as bssn\n",
    "import tomllib\n",
    "from nwave import *"
   ]
  },
  {
   "cell_type": "code",
   "execution_count": 4,
   "id": "e8552d5e-fe1a-43a5-986a-7d52f3596a22",
   "metadata": {},
   "outputs": [],
   "source": [
    "with open(\"params.toml\", \"rb\") as f:\n",
    "    params = tomllib.load(f)"
   ]
  },
  {
   "cell_type": "code",
   "execution_count": 5,
   "id": "115b3167-6a11-47e7-b1d5-9606b0059239",
   "metadata": {},
   "outputs": [],
   "source": [
    "# Set up grid\n",
    "if \"Xmin\" in params and params[\"Xmin\"] < 0.0:\n",
    "    extended_domain = True\n",
    "    cellgrid = False\n",
    "    if params[\"Nx\"] % 2 != 0:\n",
    "        params[\"Nx\"] += 1\n",
    "        print(f\"Adjusted Nx to {params['Nx']} (must be even)\")\n",
    "else:\n",
    "    extended_domain = False\n",
    "    cellgrid = True\n",
    "\n",
    "nghost = params[\"NGhost\"]\n",
    "g = Grid1D(params, cell_centered=cellgrid)"
   ]
  },
  {
   "cell_type": "code",
   "execution_count": 6,
   "id": "6a79efe4-02e5-4f4c-9505-6949fe037545",
   "metadata": {},
   "outputs": [],
   "source": [
    "def get_filter_type(filter_str):\n",
    "    try:\n",
    "        return filter_type_map[filter_str]\n",
    "    except KeyError:\n",
    "        raise ValueError(f\"Unknown filter string: '{filter_str}'\")"
   ]
  },
  {
   "cell_type": "code",
   "execution_count": 7,
   "id": "4d22c132-4a9a-4ae0-8f47-cb1dd807f11e",
   "metadata": {},
   "outputs": [],
   "source": [
    "r = g.xi[0]\n",
    "dr = g.dx[0]\n",
    "if params[\"D1\"] == \"E4\":\n",
    "    D1 = ExplicitFirst44_1D(dr)\n",
    "    g.set_D1(D1)\n",
    "elif params[\"D1\"] == \"E6\":\n",
    "    D1 = ExplicitFirst642_1D(dr)\n",
    "    g.set_D1(D1)\n",
    "elif params[\"D1\"] == \"JP6\":\n",
    "    #D1 = CompactFirst1D(r, \"D1_JTP6\", method=\"LUSOLVE\")\n",
    "    D1 = CompactFirst1D(r, DerivType.D1_JP6, CFDSolve.LUSOLVE)\n",
    "    g.set_D1(D1)\n",
    "elif params[\"D1\"] == \"KP4\":\n",
    "    # D1 = CompactFirst1D(r, \"D1_KP4\", method=\"LUSOLVE\")\n",
    "    D1 = CompactFirst1D(r, DerivType.D1_KP4, CFDSolve.LUSOLVE)\n",
    "    g.set_D1(D1)\n",
    "else:\n",
    "    raise NotImplementedError(\"D1 = { E4, E6, JP6, KP4 }\")"
   ]
  },
  {
   "cell_type": "code",
   "execution_count": 8,
   "id": "5804873d-7677-4efd-b29f-c3479c910784",
   "metadata": {},
   "outputs": [],
   "source": [
    "if params[\"D2\"] == \"E4\":\n",
    "    D2 = ExplicitSecond44_1D(dr)\n",
    "    g.set_D2(D2)\n",
    "elif params[\"D2\"] == \"E6\":\n",
    "    D2 = ExplicitSecond642_1D(dr)\n",
    "    g.set_D2(D2)\n",
    "elif params[\"D2\"] == \"JP6\":\n",
    "    D2 = CompactSecond1D(r, DerivType.D2_JP6, CFDSolve.LUSOLVE)\n",
    "    #D2 = CompactSecond1D(r, DerivType.D2_JP6, CFDSolve.D_LU)\n",
    "    g.set_D2(D2)\n",
    "else:\n",
    "    raise NotImplementedError(\"D2 = { E4, E6, JP6 }\")"
   ]
  },
  {
   "cell_type": "code",
   "execution_count": 9,
   "id": "3735cf9f-ccdb-4d24-b494-61dba9d3444c",
   "metadata": {},
   "outputs": [
    {
     "name": "stdout",
     "output_type": "stream",
     "text": [
      "Setting a compact filter\n",
      "bssn_filter type = FilterType.JTT8\n"
     ]
    }
   ],
   "source": [
    "filter_str = params[\"Filter\"]\n",
    "ftype = get_filter_type(filter_str)\n",
    "frequency = params.get(\"FilterFrequency\",1)\n",
    "alpha = params.get(\"FilterAlpha\", 0.4)\n",
    "beta = params.get(\"FilterBeta\", 0.0)\n",
    "fbounds = params.get(\"FilterBoundary\", False)\n",
    "sigma = params.get(\"FilterKOsigma\", 0.1)\n",
    "\n",
    "if ftype == \"KO6\":\n",
    "    bssn_filter = KreissOligerFilterO6_1D(dr, sigma, filter_boundary=fbounds)\n",
    "    g.set_filter(bssn_filter)\n",
    "elif ftype == \"KO8\":\n",
    "    print(\"Setting KO8 filter\")\n",
    "    bssn_filter = KreissOligerFilterO8_1D(dr, sigma, filter_boundary=fbounds)\n",
    "    g.set_filter(bssn_filter)\n",
    "elif ftype in CompactFilterTypes:\n",
    "    print(\"Setting a compact filter\")\n",
    "    apply_filter = FilterApply.APPLY_VARS\n",
    "    method = CFDSolve.SCIPY\n",
    "    bssn_filter = NCompactFilter.init_filter(r, ftype, apply_filter, method, frequency, fbounds, alpha, beta)\n",
    "    g.set_filter(bssn_filter)\n",
    "    print(f\"bssn_filter type = {bssn_filter.get_filter_type()}\")\n",
    "elif ftype == \"None\":\n",
    "    print(\"No filter found. Setting to 'None'\")\n",
    "    bssn_filter = None\n",
    "    g.set_filter(bssn_filter)\n",
    "else:\n",
    "    raise NotImplementedError(\"Filter = { KO6, KO8, JTT6, JTP6, JTT8, JTP8, KP4 }\")"
   ]
  },
  {
   "cell_type": "code",
   "execution_count": 10,
   "id": "993baa9e-9619-4591-b493-2da45f5302b3",
   "metadata": {},
   "outputs": [
    {
     "name": "stdout",
     "output_type": "stream",
     "text": [
      "D1 type: DerivType.D1_JP6, method: CFDSolve.LUSOLVE\n",
      "D2 type: DerivType.D2_JP6, method: CFDSolve.LUSOLVE\n",
      "filter_string = JTT8\n",
      "ftype = FilterType.JTT8\n",
      "Filter type: FilterType.JTT8\n",
      "Filter apply: FilterApply.APPLY_VARS\n"
     ]
    }
   ],
   "source": [
    "print(f\"D1 type: {g.D1.get_type()}, method: {g.D1.get_method()}\")\n",
    "print(f\"D2 type: {g.D2.get_type()}, method: {g.D2.get_method()}\")\n",
    "print(f\"filter_string = {filter_str}\")\n",
    "print(f\"ftype = {ftype}\")\n",
    "\n",
    "print(f\"Filter type: {g.Filter[0].get_filter_type()}\")\n",
    "print(f\"Filter apply: {g.Filter[0].get_apply_filter()}\")"
   ]
  },
  {
   "cell_type": "code",
   "execution_count": 11,
   "id": "c6a68f84-5cd1-4917-8092-370547f63849",
   "metadata": {},
   "outputs": [],
   "source": [
    "# GBSSN system: (sys, lapse advection, shift advection)\n",
    "#    sys = 0 (Eulerian), 1 (Lagrangian)\n",
    "sys = bssn.GBSSNSystem(1, 1, 1)\n",
    "eqs = bssn.BSSN(\n",
    "    g, params[\"Mass\"], params[\"eta\"], extended_domain, \"FUNCTION\", sys, have_d2=True\n",
    ")\n",
    "eqs.initialize(g, params)"
   ]
  },
  {
   "cell_type": "code",
   "execution_count": 12,
   "id": "369c2e1b-36e1-411f-a4c2-3aa0f9b2f795",
   "metadata": {},
   "outputs": [],
   "source": [
    "r = g.xi[0]"
   ]
  },
  {
   "cell_type": "code",
   "execution_count": 13,
   "id": "a1036bdf-5f3c-4156-9278-aebc8cbaf9f0",
   "metadata": {},
   "outputs": [
    {
     "name": "stderr",
     "output_type": "stream",
     "text": [
      "/Users/dave/projects/pynwave2d/nwave/compactderivs.py:578: RuntimeWarning: divide by zero encountered in matmul\n",
      "  rhs = np.matmul(self.B, f)\n",
      "/Users/dave/projects/pynwave2d/nwave/compactderivs.py:578: RuntimeWarning: overflow encountered in matmul\n",
      "  rhs = np.matmul(self.B, f)\n",
      "/Users/dave/projects/pynwave2d/nwave/compactderivs.py:578: RuntimeWarning: invalid value encountered in matmul\n",
      "  rhs = np.matmul(self.B, f)\n"
     ]
    }
   ],
   "source": [
    "eqs.cal_constraints(eqs.u, g)"
   ]
  },
  {
   "cell_type": "code",
   "execution_count": 14,
   "id": "3e27a6a1-de6d-4a31-b84c-14d62e89e898",
   "metadata": {},
   "outputs": [
    {
     "name": "stderr",
     "output_type": "stream",
     "text": [
      "/Users/dave/projects/pynwave2d/nwave/compactderivs.py:578: RuntimeWarning: divide by zero encountered in matmul\n",
      "  rhs = np.matmul(self.B, f)\n",
      "/Users/dave/projects/pynwave2d/nwave/compactderivs.py:578: RuntimeWarning: overflow encountered in matmul\n",
      "  rhs = np.matmul(self.B, f)\n",
      "/Users/dave/projects/pynwave2d/nwave/compactderivs.py:578: RuntimeWarning: invalid value encountered in matmul\n",
      "  rhs = np.matmul(self.B, f)\n"
     ]
    }
   ],
   "source": [
    "d_chi = D1.grad(eqs.u[eqs.U_CHI])\n",
    "d_g_rr = D1.grad(eqs.u[eqs.U_GRR])\n",
    "d_g_tt = D1.grad(eqs.u[eqs.U_GTT])\n",
    "d_A_rr = D1.grad(eqs.u[eqs.U_ARR])\n",
    "d_K = D1.grad(eqs.u[eqs.U_K])\n",
    "d2_chi = D2.grad2(eqs.u[eqs.U_CHI])\n",
    "d2_g_tt = D2.grad2(eqs.u[eqs.U_GTT])\n",
    "d_alpha = D1.grad(eqs.u[eqs.U_ALPHA])\n",
    "d2_alpha = D2.grad2(eqs.u[eqs.U_ALPHA])\n",
    "Gt = eqs.u[eqs.U_GT]\n",
    "d_Gt = D1.grad(Gt)"
   ]
  },
  {
   "cell_type": "code",
   "execution_count": 15,
   "id": "04f7ec0f-7e2c-4256-a9ff-ccc6371136cb",
   "metadata": {},
   "outputs": [
    {
     "data": {
      "application/vnd.jupyter.widget-view+json": {
       "model_id": "0664ff51fe3b4909856b47822872613c",
       "version_major": 2,
       "version_minor": 0
      },
      "text/plain": [
       "FigureWidget({\n",
       "    'data': [{'line': {'width': 2},\n",
       "              'mode': 'lines',\n",
       "              'name': 'Gt',\n",
       "              'type': 'scatter',\n",
       "              'uid': 'a56ab65c-b9c7-466b-9970-f7b4c87ea484',\n",
       "              'x': {'bdata': ('Z2KAPXAmWcCaQQApoBlZwM0ggBTQDF' ... 'AU0AxZQJtBACmgGVlAZ2KAPXAmWUA='),\n",
       "                    'dtype': 'f8'},\n",
       "              'y': {'bdata': ('OigESJRblD9zO/ug+GWUPwvAa5tncJ' ... 'ubZ3CUv3I7+6D4ZZS/OigESJRblL8='),\n",
       "                    'dtype': 'f8'}},\n",
       "             {'line': {'width': 2},\n",
       "              'mode': 'lines+markers',\n",
       "              'name': 'd_Gt',\n",
       "              'type': 'scatter',\n",
       "              'uid': '18c8685f-4ad2-4c18-b595-c903f5f1e674',\n",
       "              'x': {'bdata': ('Z2KAPXAmWcCaQQApoBlZwM0ggBTQDF' ... 'AU0AxZQJtBACmgGVlAZ2KAPXAmWUA='),\n",
       "                    'dtype': 'f8'},\n",
       "              'y': {'bdata': ('EpWAZuJPKD8YzW9zaUkqPzXuAHIFAC' ... 'ByBQAqP23cb3NpSSo/82aAZuJPKD8='),\n",
       "                    'dtype': 'f8'}}],\n",
       "    'layout': {'hoverdistance': -1,\n",
       "               'hovermode': 'x',\n",
       "               'template': '...',\n",
       "               'title': {'text': 'Gt and dx_Gt'},\n",
       "               'xaxis': {'title': {'text': 'x'}, 'type': 'linear'},\n",
       "               'yaxis': {'title': {'text': 'y'}}}\n",
       "})"
      ]
     },
     "execution_count": 15,
     "metadata": {},
     "output_type": "execute_result"
    }
   ],
   "source": [
    "# our custom event handler\n",
    "def update_trace(trace, points, selector):\n",
    "    # this list stores the points which were clicked on\n",
    "    # in all but one trace they are empty\n",
    "    if len(points.point_inds) == 0:\n",
    "        return          \n",
    "    for i,_ in enumerate(fig.data):\n",
    "        fig.data[i]['line']['width'] = default_linewidth + highlighted_linewidth_delta * (i == points.trace_index)\n",
    "\n",
    "default_linewidth = 2\n",
    "highlighted_linewidth_delta = 2\n",
    "\n",
    "fig = go.FigureWidget()\n",
    "fig.layout.hovermode = 'closest'\n",
    "fig.layout.hoverdistance = -1 #ensures no \"gaps\" for selecting sparse data\n",
    "fig.add_trace(go.Scatter(x=r, y=Gt, name=\"Gt\", mode=\"lines\",line={ 'width': default_linewidth }))\n",
    "fig.add_trace(go.Scatter(x=r, y=d_Gt, name=\"d_Gt\", mode=\"lines+markers\", line={ 'width': default_linewidth }))\n",
    "# we need to add the on_click event to each trace separately       \n",
    "for i in range( len(fig.data) ):\n",
    "    fig.data[i].on_click(update_trace)\n",
    "\n",
    "# Layout with log scale option\n",
    "fig.update_layout(\n",
    "    title='Gt and dx_Gt',\n",
    "    xaxis=dict(title='x', type='linear'),  # use 'log' for log scale\n",
    "    yaxis=dict(title='y'),\n",
    "    hovermode='x',\n",
    "    template='plotly_white'\n",
    ")\n",
    "\n",
    "fig.show()"
   ]
  },
  {
   "cell_type": "code",
   "execution_count": 16,
   "id": "8edc5d4d-626d-4812-8d58-a67193518001",
   "metadata": {},
   "outputs": [],
   "source": [
    "ED1 = ExplicitFirst642_1D(dr)\n",
    "ED2 = ExplicitSecond642_1D(dr)"
   ]
  },
  {
   "cell_type": "code",
   "execution_count": 17,
   "id": "e70bae66-54cc-45f3-ba13-53ff3bfcde86",
   "metadata": {},
   "outputs": [],
   "source": [
    "ed_chi = ED1.grad(eqs.u[eqs.U_CHI])\n",
    "ed_g_rr = ED1.grad(eqs.u[eqs.U_GRR])\n",
    "ed_g_tt = ED1.grad(eqs.u[eqs.U_GTT])\n",
    "ed_A_rr = ED1.grad(eqs.u[eqs.U_ARR])\n",
    "ed_K = ED1.grad(eqs.u[eqs.U_K])\n",
    "ed2_chi = ED2.grad2(eqs.u[eqs.U_CHI])\n",
    "ed2_g_tt = ED2.grad2(eqs.u[eqs.U_GTT])\n",
    "ed_Gt = ED1.grad(Gt)"
   ]
  },
  {
   "cell_type": "code",
   "execution_count": 18,
   "id": "6395cbb9-2713-422c-ae30-aad3551094da",
   "metadata": {},
   "outputs": [
    {
     "data": {
      "application/vnd.plotly.v1+json": {
       "config": {
        "plotlyServerURL": "https://plot.ly"
       },
       "data": [
        {
         "mode": "lines+markers",
         "name": "ed_Gt (642)",
         "type": "scatter",
         "x": {
          "bdata": "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",
          "dtype": "f8"
         },
         "y": {
          "bdata": "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",
          "dtype": "f8"
         }
        },
        {
         "mode": "lines+markers",
         "name": "d_Gt",
         "type": "scatter",
         "x": {
          "bdata": "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",
          "dtype": "f8"
         },
         "y": {
          "bdata": "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",
          "dtype": "f8"
         }
        }
       ],
       "layout": {
        "hovermode": "x",
        "template": {
         "data": {
          "bar": [
           {
            "error_x": {
             "color": "#2a3f5f"
            },
            "error_y": {
             "color": "#2a3f5f"
            },
            "marker": {
             "line": {
              "color": "white",
              "width": 0.5
             },
             "pattern": {
              "fillmode": "overlay",
              "size": 10,
              "solidity": 0.2
             }
            },
            "type": "bar"
           }
          ],
          "barpolar": [
           {
            "marker": {
             "line": {
              "color": "white",
              "width": 0.5
             },
             "pattern": {
              "fillmode": "overlay",
              "size": 10,
              "solidity": 0.2
             }
            },
            "type": "barpolar"
           }
          ],
          "carpet": [
           {
            "aaxis": {
             "endlinecolor": "#2a3f5f",
             "gridcolor": "#C8D4E3",
             "linecolor": "#C8D4E3",
             "minorgridcolor": "#C8D4E3",
             "startlinecolor": "#2a3f5f"
            },
            "baxis": {
             "endlinecolor": "#2a3f5f",
             "gridcolor": "#C8D4E3",
             "linecolor": "#C8D4E3",
             "minorgridcolor": "#C8D4E3",
             "startlinecolor": "#2a3f5f"
            },
            "type": "carpet"
           }
          ],
          "choropleth": [
           {
            "colorbar": {
             "outlinewidth": 0,
             "ticks": ""
            },
            "type": "choropleth"
           }
          ],
          "contour": [
           {
            "colorbar": {
             "outlinewidth": 0,
             "ticks": ""
            },
            "colorscale": [
             [
              0,
              "#0d0887"
             ],
             [
              0.1111111111111111,
              "#46039f"
             ],
             [
              0.2222222222222222,
              "#7201a8"
             ],
             [
              0.3333333333333333,
              "#9c179e"
             ],
             [
              0.4444444444444444,
              "#bd3786"
             ],
             [
              0.5555555555555556,
              "#d8576b"
             ],
             [
              0.6666666666666666,
              "#ed7953"
             ],
             [
              0.7777777777777778,
              "#fb9f3a"
             ],
             [
              0.8888888888888888,
              "#fdca26"
             ],
             [
              1,
              "#f0f921"
             ]
            ],
            "type": "contour"
           }
          ],
          "contourcarpet": [
           {
            "colorbar": {
             "outlinewidth": 0,
             "ticks": ""
            },
            "type": "contourcarpet"
           }
          ],
          "heatmap": [
           {
            "colorbar": {
             "outlinewidth": 0,
             "ticks": ""
            },
            "colorscale": [
             [
              0,
              "#0d0887"
             ],
             [
              0.1111111111111111,
              "#46039f"
             ],
             [
              0.2222222222222222,
              "#7201a8"
             ],
             [
              0.3333333333333333,
              "#9c179e"
             ],
             [
              0.4444444444444444,
              "#bd3786"
             ],
             [
              0.5555555555555556,
              "#d8576b"
             ],
             [
              0.6666666666666666,
              "#ed7953"
             ],
             [
              0.7777777777777778,
              "#fb9f3a"
             ],
             [
              0.8888888888888888,
              "#fdca26"
             ],
             [
              1,
              "#f0f921"
             ]
            ],
            "type": "heatmap"
           }
          ],
          "histogram": [
           {
            "marker": {
             "pattern": {
              "fillmode": "overlay",
              "size": 10,
              "solidity": 0.2
             }
            },
            "type": "histogram"
           }
          ],
          "histogram2d": [
           {
            "colorbar": {
             "outlinewidth": 0,
             "ticks": ""
            },
            "colorscale": [
             [
              0,
              "#0d0887"
             ],
             [
              0.1111111111111111,
              "#46039f"
             ],
             [
              0.2222222222222222,
              "#7201a8"
             ],
             [
              0.3333333333333333,
              "#9c179e"
             ],
             [
              0.4444444444444444,
              "#bd3786"
             ],
             [
              0.5555555555555556,
              "#d8576b"
             ],
             [
              0.6666666666666666,
              "#ed7953"
             ],
             [
              0.7777777777777778,
              "#fb9f3a"
             ],
             [
              0.8888888888888888,
              "#fdca26"
             ],
             [
              1,
              "#f0f921"
             ]
            ],
            "type": "histogram2d"
           }
          ],
          "histogram2dcontour": [
           {
            "colorbar": {
             "outlinewidth": 0,
             "ticks": ""
            },
            "colorscale": [
             [
              0,
              "#0d0887"
             ],
             [
              0.1111111111111111,
              "#46039f"
             ],
             [
              0.2222222222222222,
              "#7201a8"
             ],
             [
              0.3333333333333333,
              "#9c179e"
             ],
             [
              0.4444444444444444,
              "#bd3786"
             ],
             [
              0.5555555555555556,
              "#d8576b"
             ],
             [
              0.6666666666666666,
              "#ed7953"
             ],
             [
              0.7777777777777778,
              "#fb9f3a"
             ],
             [
              0.8888888888888888,
              "#fdca26"
             ],
             [
              1,
              "#f0f921"
             ]
            ],
            "type": "histogram2dcontour"
           }
          ],
          "mesh3d": [
           {
            "colorbar": {
             "outlinewidth": 0,
             "ticks": ""
            },
            "type": "mesh3d"
           }
          ],
          "parcoords": [
           {
            "line": {
             "colorbar": {
              "outlinewidth": 0,
              "ticks": ""
             }
            },
            "type": "parcoords"
           }
          ],
          "pie": [
           {
            "automargin": true,
            "type": "pie"
           }
          ],
          "scatter": [
           {
            "fillpattern": {
             "fillmode": "overlay",
             "size": 10,
             "solidity": 0.2
            },
            "type": "scatter"
           }
          ],
          "scatter3d": [
           {
            "line": {
             "colorbar": {
              "outlinewidth": 0,
              "ticks": ""
             }
            },
            "marker": {
             "colorbar": {
              "outlinewidth": 0,
              "ticks": ""
             }
            },
            "type": "scatter3d"
           }
          ],
          "scattercarpet": [
           {
            "marker": {
             "colorbar": {
              "outlinewidth": 0,
              "ticks": ""
             }
            },
            "type": "scattercarpet"
           }
          ],
          "scattergeo": [
           {
            "marker": {
             "colorbar": {
              "outlinewidth": 0,
              "ticks": ""
             }
            },
            "type": "scattergeo"
           }
          ],
          "scattergl": [
           {
            "marker": {
             "colorbar": {
              "outlinewidth": 0,
              "ticks": ""
             }
            },
            "type": "scattergl"
           }
          ],
          "scattermap": [
           {
            "marker": {
             "colorbar": {
              "outlinewidth": 0,
              "ticks": ""
             }
            },
            "type": "scattermap"
           }
          ],
          "scattermapbox": [
           {
            "marker": {
             "colorbar": {
              "outlinewidth": 0,
              "ticks": ""
             }
            },
            "type": "scattermapbox"
           }
          ],
          "scatterpolar": [
           {
            "marker": {
             "colorbar": {
              "outlinewidth": 0,
              "ticks": ""
             }
            },
            "type": "scatterpolar"
           }
          ],
          "scatterpolargl": [
           {
            "marker": {
             "colorbar": {
              "outlinewidth": 0,
              "ticks": ""
             }
            },
            "type": "scatterpolargl"
           }
          ],
          "scatterternary": [
           {
            "marker": {
             "colorbar": {
              "outlinewidth": 0,
              "ticks": ""
             }
            },
            "type": "scatterternary"
           }
          ],
          "surface": [
           {
            "colorbar": {
             "outlinewidth": 0,
             "ticks": ""
            },
            "colorscale": [
             [
              0,
              "#0d0887"
             ],
             [
              0.1111111111111111,
              "#46039f"
             ],
             [
              0.2222222222222222,
              "#7201a8"
             ],
             [
              0.3333333333333333,
              "#9c179e"
             ],
             [
              0.4444444444444444,
              "#bd3786"
             ],
             [
              0.5555555555555556,
              "#d8576b"
             ],
             [
              0.6666666666666666,
              "#ed7953"
             ],
             [
              0.7777777777777778,
              "#fb9f3a"
             ],
             [
              0.8888888888888888,
              "#fdca26"
             ],
             [
              1,
              "#f0f921"
             ]
            ],
            "type": "surface"
           }
          ],
          "table": [
           {
            "cells": {
             "fill": {
              "color": "#EBF0F8"
             },
             "line": {
              "color": "white"
             }
            },
            "header": {
             "fill": {
              "color": "#C8D4E3"
             },
             "line": {
              "color": "white"
             }
            },
            "type": "table"
           }
          ]
         },
         "layout": {
          "annotationdefaults": {
           "arrowcolor": "#2a3f5f",
           "arrowhead": 0,
           "arrowwidth": 1
          },
          "autotypenumbers": "strict",
          "coloraxis": {
           "colorbar": {
            "outlinewidth": 0,
            "ticks": ""
           }
          },
          "colorscale": {
           "diverging": [
            [
             0,
             "#8e0152"
            ],
            [
             0.1,
             "#c51b7d"
            ],
            [
             0.2,
             "#de77ae"
            ],
            [
             0.3,
             "#f1b6da"
            ],
            [
             0.4,
             "#fde0ef"
            ],
            [
             0.5,
             "#f7f7f7"
            ],
            [
             0.6,
             "#e6f5d0"
            ],
            [
             0.7,
             "#b8e186"
            ],
            [
             0.8,
             "#7fbc41"
            ],
            [
             0.9,
             "#4d9221"
            ],
            [
             1,
             "#276419"
            ]
           ],
           "sequential": [
            [
             0,
             "#0d0887"
            ],
            [
             0.1111111111111111,
             "#46039f"
            ],
            [
             0.2222222222222222,
             "#7201a8"
            ],
            [
             0.3333333333333333,
             "#9c179e"
            ],
            [
             0.4444444444444444,
             "#bd3786"
            ],
            [
             0.5555555555555556,
             "#d8576b"
            ],
            [
             0.6666666666666666,
             "#ed7953"
            ],
            [
             0.7777777777777778,
             "#fb9f3a"
            ],
            [
             0.8888888888888888,
             "#fdca26"
            ],
            [
             1,
             "#f0f921"
            ]
           ],
           "sequentialminus": [
            [
             0,
             "#0d0887"
            ],
            [
             0.1111111111111111,
             "#46039f"
            ],
            [
             0.2222222222222222,
             "#7201a8"
            ],
            [
             0.3333333333333333,
             "#9c179e"
            ],
            [
             0.4444444444444444,
             "#bd3786"
            ],
            [
             0.5555555555555556,
             "#d8576b"
            ],
            [
             0.6666666666666666,
             "#ed7953"
            ],
            [
             0.7777777777777778,
             "#fb9f3a"
            ],
            [
             0.8888888888888888,
             "#fdca26"
            ],
            [
             1,
             "#f0f921"
            ]
           ]
          },
          "colorway": [
           "#636efa",
           "#EF553B",
           "#00cc96",
           "#ab63fa",
           "#FFA15A",
           "#19d3f3",
           "#FF6692",
           "#B6E880",
           "#FF97FF",
           "#FECB52"
          ],
          "font": {
           "color": "#2a3f5f"
          },
          "geo": {
           "bgcolor": "white",
           "lakecolor": "white",
           "landcolor": "white",
           "showlakes": true,
           "showland": true,
           "subunitcolor": "#C8D4E3"
          },
          "hoverlabel": {
           "align": "left"
          },
          "hovermode": "closest",
          "mapbox": {
           "style": "light"
          },
          "paper_bgcolor": "white",
          "plot_bgcolor": "white",
          "polar": {
           "angularaxis": {
            "gridcolor": "#EBF0F8",
            "linecolor": "#EBF0F8",
            "ticks": ""
           },
           "bgcolor": "white",
           "radialaxis": {
            "gridcolor": "#EBF0F8",
            "linecolor": "#EBF0F8",
            "ticks": ""
           }
          },
          "scene": {
           "xaxis": {
            "backgroundcolor": "white",
            "gridcolor": "#DFE8F3",
            "gridwidth": 2,
            "linecolor": "#EBF0F8",
            "showbackground": true,
            "ticks": "",
            "zerolinecolor": "#EBF0F8"
           },
           "yaxis": {
            "backgroundcolor": "white",
            "gridcolor": "#DFE8F3",
            "gridwidth": 2,
            "linecolor": "#EBF0F8",
            "showbackground": true,
            "ticks": "",
            "zerolinecolor": "#EBF0F8"
           },
           "zaxis": {
            "backgroundcolor": "white",
            "gridcolor": "#DFE8F3",
            "gridwidth": 2,
            "linecolor": "#EBF0F8",
            "showbackground": true,
            "ticks": "",
            "zerolinecolor": "#EBF0F8"
           }
          },
          "shapedefaults": {
           "line": {
            "color": "#2a3f5f"
           }
          },
          "ternary": {
           "aaxis": {
            "gridcolor": "#DFE8F3",
            "linecolor": "#A2B1C6",
            "ticks": ""
           },
           "baxis": {
            "gridcolor": "#DFE8F3",
            "linecolor": "#A2B1C6",
            "ticks": ""
           },
           "bgcolor": "white",
           "caxis": {
            "gridcolor": "#DFE8F3",
            "linecolor": "#A2B1C6",
            "ticks": ""
           }
          },
          "title": {
           "x": 0.05
          },
          "xaxis": {
           "automargin": true,
           "gridcolor": "#EBF0F8",
           "linecolor": "#EBF0F8",
           "ticks": "",
           "title": {
            "standoff": 15
           },
           "zerolinecolor": "#EBF0F8",
           "zerolinewidth": 2
          },
          "yaxis": {
           "automargin": true,
           "gridcolor": "#EBF0F8",
           "linecolor": "#EBF0F8",
           "ticks": "",
           "title": {
            "standoff": 15
           },
           "zerolinecolor": "#EBF0F8",
           "zerolinewidth": 2
          }
         }
        },
        "title": {
         "text": "Explicit and Compact Derivatives of Gt"
        },
        "xaxis": {
         "title": {
          "text": "x"
         },
         "type": "linear"
        },
        "yaxis": {
         "title": {
          "text": "y"
         }
        }
       }
      }
     },
     "metadata": {},
     "output_type": "display_data"
    }
   ],
   "source": [
    "fig = go.Figure()\n",
    "fig.add_trace(go.Scatter(x=r, y=ed_Gt, name=\"ed_Gt (642)\", mode=\"lines+markers\"))\n",
    "fig.add_trace(go.Scatter(x=r, y=d_Gt, name=\"d_Gt\", mode=\"lines+markers\"))\n",
    "#fig.add_trace(go.Scatter(x=r, y=ed_Gt, name=\"ed_Gt (642)\", mode=\"lines+markers\",hoverinfo='skip'))\n",
    "#fig.add_trace(go.Scatter(x=r, y=d_Gt, name=\"d_Gt\", mode=\"lines+markers\",hoverinfo='skip'))\n",
    "\n",
    "# we need to add the on_click event to each trace separately       \n",
    "for i in range( len(fig.data) ):\n",
    "    fig.data[i].on_click(update_trace)\n",
    "\n",
    "# Layout with log scale option\n",
    "fig.update_layout(\n",
    "    title='Explicit and Compact Derivatives of Gt',\n",
    "    xaxis=dict(title='x', type='linear'),  # use 'log' for log scale\n",
    "    yaxis=dict(title='y'),\n",
    "    hovermode='x',\n",
    "    template='plotly_white'\n",
    ")\n",
    "\n",
    "fig.show()"
   ]
  },
  {
   "cell_type": "code",
   "execution_count": 19,
   "id": "8dae12d9-9967-4372-a469-5034b6d75741",
   "metadata": {},
   "outputs": [
    {
     "name": "stderr",
     "output_type": "stream",
     "text": [
      "/Users/dave/projects/pynwave2d/nwave/compactfilters.py:122: RuntimeWarning:\n",
      "\n",
      "divide by zero encountered in matmul\n",
      "\n",
      "/Users/dave/projects/pynwave2d/nwave/compactfilters.py:122: RuntimeWarning:\n",
      "\n",
      "overflow encountered in matmul\n",
      "\n",
      "/Users/dave/projects/pynwave2d/nwave/compactfilters.py:122: RuntimeWarning:\n",
      "\n",
      "invalid value encountered in matmul\n",
      "\n"
     ]
    }
   ],
   "source": [
    "f = 1/r\n",
    "amp = 1.0e-1\n",
    "#fn = f + amp*np.sin(137.523*r)\n",
    "gn = np.random.normal(0, 0.1, len(r))\n",
    "fn = f + amp*gn\n",
    "CF = CompactFilter(r, FilterApply.APPLY_VARS, FilterType.JTT6, 1, alpha=0.4, beta=0.0)\n",
    "ff = CF.filter(f)"
   ]
  },
  {
   "cell_type": "code",
   "execution_count": 20,
   "id": "1778f485-671b-4580-a898-b84b524bda5a",
   "metadata": {},
   "outputs": [
    {
     "data": {
      "application/vnd.plotly.v1+json": {
       "config": {
        "plotlyServerURL": "https://plot.ly"
       },
       "data": [
        {
         "mode": "lines+markers",
         "name": "f with noise",
         "type": "scatter",
         "x": {
          "bdata": "Z2KAPXAmWcCaQQApoBlZwM0ggBTQDFnAAAAAAAAAWcAz33/rL/NYwGa+/9Zf5ljAmZ1/wo/ZWMDMfP+tv8xYwP9bf5nvv1jAMjv/hB+zWMBlGn9wT6ZYwJj5/lt/mVjAy9h+R6+MWMD+t/4y339YwDGXfh4Pc1jAZHb+CT9mWMCXVX71bllYwMo0/uCeTFjA/RN+zM4/WMAw8/23/jJYwGPSfaMuJljAlrH9jl4ZWMDJkH16jgxYwPxv/WW+/1fAL099Ue7yV8BiLv08HuZXwJUNfShO2VfAyOz8E37MV8D7y3z/rb9XwC6r/OrdslfAYYp81g2mV8CUafzBPZlXwMdIfK1tjFfA+if8mJ1/V8AtB3yEzXJXwGDm+2/9ZVfAk8V7Wy1ZV8DGpPtGXUxXwPmDezKNP1fALGP7Hb0yV8BfQnsJ7SVXwJIh+/QcGVfAxQB74EwMV8D43/rLfP9WwCu/eres8lbAXp76otzlVsCRfXqODNlWwMRc+nk8zFbA9zt6ZWy/VsAqG/pQnLJWwF36eTzMpVbAkNn5J/yYVsDDuHkTLIxWwPaX+f5bf1bAKXd56otyVsBcVvnVu2VWwI81ecHrWFbAwhT5rBtMVsD183iYSz9WwCjT+IN7MlbAW7J4b6slVsCOkfha2xhWwMFweEYLDFbA9E/4MTv/VcAnL3gda/JVwFoO+Aib5VXAje139MrYVcDAzPff+stVwPOrd8sqv1XAJov3tlqyVcBZaneiiqVVwIxJ9426mFXAvyh3eeqLVcDyB/dkGn9VwCXndlBKclXAWMb2O3plVcCKpXYnqlhVwL6E9hLaS1XA8GN2/gk/VcAkQ/bpOTJVwFYidtVpJVXAigH2wJkYVcC84HWsyQtVwPC/9Zf5/lTAIp91gynyVMBWfvVuWeVUwIhddVqJ2FTAvDz1RbnLVMDuG3Ux6b5UwCL79BwZslTAVNp0CEmlVMCIufTzeJhUwLqYdN+oi1TA7nf0yth+VMAgV3S2CHJUwFQ29KE4ZVTAhhV0jWhYVMC69PN4mEtUwOzTc2TIPlTAILPzT/gxVMBSknM7KCVUwIZx8yZYGFTAuFBzEogLVMDsL/P9t/5TwB4Pc+nn8VPAUu7y1BflU8CEzXLAR9hTwLes8qt3y1PA6otyl6e+U8Ada/KC17FTwFBKcm4HpVPAgynyWTeYU8C2CHJFZ4tTwOnn8TCXflPAHMdxHMdxU8BPpvEH92RTwIKFcfMmWFPAtWTx3lZLU8DoQ3HKhj5TwBsj8bW2MVPATgJxoeYkU8CB4fCMFhhTwLTAcHhGC1PA55/wY3b+UsAaf3BPpvFSwE1e8DrW5FLAgD1wJgbYUsCzHPARNstSwOb7b/1lvlLAGdvv6JWxUsBMum/UxaRSwH+Z77/1l1LAsnhvqyWLUsDlV++WVX5SwBg3b4KFcVLASxbvbbVkUsB+9W5Z5VdSwLHU7kQVS1LA5LNuMEU+UsAXk+4bdTFSwEpybgelJFLAfVHu8tQXUsCwMG7eBAtSwOMP7sk0/lHAFu9ttWTxUcBJzu2glORRwHytbYzE11HAr4ztd/TKUcDia21jJL5RwBVL7U5UsVHASCptOoSkUcB7Ce0ltJdRwK7obBHkilHA4cfs/BN+UcAUp2zoQ3FRwEeG7NNzZFHAemVsv6NXUcCtROyq00pRwOAjbJYDPlHAEwPsgTMxUcBG4mttYyRRwHnB61iTF1HArKBrRMMKUcDff+sv8/1QwBJfaxsj8VDART7rBlPkUMB4HWvygtdQwKv86t2yylDA3ttqyeK9UMARu+q0ErFQwESaaqBCpFDAd3nqi3KXUMCqWGp3oopQwN036mLSfVDAEBdqTgJxUMBD9uk5MmRQwHbVaSViV1DAqbTpEJJKUMDck2n8wT1QwA9z6efxMFDAQlJp0yEkUMB1Mem+URdQwKgQaaqBClDAtt/RK2P7T8AcntECw+FPwIJc0dkiyE/A6BrRsIKuT8BO2dCH4pRPwLSX0F5Ce0/AGlbQNaJhT8CAFNAMAkhPwObSz+NhLk/ATJHPusEUT8CyT8+RIftOwBgOz2iB4U7AfszOP+HHTsDkis4WQa5OwEpJzu2glE7AsAfOxAB7TsAWxs2bYGFOwHyEzXLAR07A4kLNSSAuTsBIAc0ggBROwK6/zPff+k3AFH7Mzj/hTcB6PMyln8dNwOD6y3z/rU3ARrnLU1+UTcCsd8sqv3pNwBI2ywEfYU3AePTK2H5HTcDessqv3i1NwERxyoY+FE3Aqi/KXZ76TMAP7sk0/uBMwHWsyQtex0zA22rJ4r2tTMBBKcm5HZRMwKfnyJB9ekzADabIZ91gTMBzZMg+PUdMwNkiyBWdLUzAP+HH7PwTTMCln8fDXPpLwAtex5q84EvAcRzHcRzHS8DX2sZIfK1LwD2Zxh/ck0vAo1fG9jt6S8AJFsbNm2BLwG/UxaT7RkvA1ZLFe1stS8A7UcVSuxNLwKEPxSkb+krAB87EAHvgSsBtjMTX2sZKwNNKxK46rUrAOQnEhZqTSsCfx8Nc+nlKwAWGwzNaYErAa0TDCrpGSsDRAsPhGS1KwDfBwrh5E0rAnX/Cj9n5ScADPsJmOeBJwGn8wT2ZxknAz7rBFPmsScA1ecHrWJNJwJs3wcK4eUnAAfbAmRhgScBntMBweEZJwM1ywEfYLEnAMzHAHjgTScCZ77/1l/lIwP+tv8z330jAZWy/o1fGSMDLKr96t6xIwDHpvlEXk0jAl6e+KHd5SMD9Zb7/1l9IwGMkvtY2RkjAyeK9rZYsSMAvob2E9hJIwJVfvVtW+UfA+x29MrbfR8Bh3LwJFsZHwMeavOB1rEfALVm8t9WSR8CTF7yONXlHwPnVu2WVX0fAX5S7PPVFR8DFUrsTVSxHwCsRu+q0EkfAkc+6wRT5RsD3jbqYdN9GwF1Mum/UxUbAwwq6RjSsRsApybkdlJJGwI+HufTzeEbA9UW5y1NfRsBbBLmis0VGwMHCuHkTLEbAJ4G4UHMSRsCNP7gn0/hFwPP9t/4y30XAWby31ZLFRcC/eres8qtFwCU5t4NSkkXAi/e2WrJ4RcDxtbYxEl9FwFd0tghyRUXAvTK239ErRcAj8bW2MRJFwImvtY2R+ETA7221ZPHeRMBVLLU7UcVEwLvqtBKxq0TAIam06RCSRMCHZ7TAcHhEwOwltJfQXkTAUuSzbjBFRMC4orNFkCtEwB5hsxzwEUTAhB+z80/4Q8Dq3bLKr95DwFCcsqEPxUPAtlqyeG+rQ8AcGbJPz5FDwILXsSYveEPA6JWx/Y5eQ8BOVLHU7kRDwLQSsatOK0PAGtGwgq4RQ8CAj7BZDvhCwOZNsDBu3kLATAywB87EQsCyyq/eLatCwBiJr7WNkULAfkevjO13QsDkBa9jTV5CwErErjqtRELAsIKuEQ0rQsAWQa7obBFCwHz/rb/M90HA4r2tlizeQcBIfK1tjMRBwK46rUTsqkHAFPmsG0yRQcB6t6zyq3dBwOB1rMkLXkHARjSsoGtEQcCs8qt3yypBwBKxq04rEUHAeG+rJYv3QMDeLav86t1AwETsqtNKxEDAqqqqqqqqQMAQaaqBCpFAwHYnqlhqd0DA3OWpL8pdQMBCpKkGKkRAwKhiqd2JKkDADiGptOkQQMDovlEXk+4/wLQ7UcVSuz/AgLhQcxKIP8BMNVAh0lQ/wBiyT8+RIT/A5C5PfVHuPsCwq04rEbs+wHwoTtnQhz7ASKVNh5BUPsAUIk01UCE+wOCeTOMP7j3ArBtMkc+6PcB4mEs/j4c9wEQVS+1OVD3AEJJKmw4hPcDcDkpJzu08wKiLSfeNujzAdAhJpU2HPMBAhUhTDVQ8wAwCSAHNIDzA2H5Hr4ztO8Ck+0ZdTLo7wHB4RgsMhzvAPPVFuctTO8AIckVniyA7wNTuRBVL7TrAoGtEwwq6OsBs6ENxyoY6wDhlQx+KUzrABOJCzUkgOsDQXkJ7Ce05wJzbQSnJuTnAaFhB14iGOcA01UCFSFM5wABSQDMIIDnAzM4/4cfsOMCYSz+Ph7k4wGTIPj1HhjjAMEU+6wZTOMD8wT2Zxh84wMg+PUeG7DfAlLs89UW5N8BgODyjBYY3wCy1O1HFUjfA+DE7/4QfN8DErjqtROw2wJArOlsEuTbAXKg5CcSFNsAoJTm3g1I2wPShOGVDHzbAwB44EwPsNcCMmzfBwrg1wFgYN2+ChTXAJJU2HUJSNcDwETbLAR81wLyONXnB6zTAiAs1J4G4NMBUiDTVQIU0wCAFNIMAUjTA7IEzMcAeNMC4/jLff+szwIR7Mo0/uDPAUPgxO/+EM8AcdTHpvlEzwOjxMJd+HjPAtG4wRT7rMsCA6y/z/bcywExoL6G9hDLAGOUuT31RMsDkYS79PB4ywLDeLav86jHAfFstWby3McBI2CwHfIQxwBRVLLU7UTHA4NErY/sdMcCsTisRu+owwHjLKr96tzDAREgqbTqEMMAQxSkb+lAwwNxBKcm5HTDAUH1R7vLUL8DodlBKcm4vwIBwT6bxBy/AGGpOAnGhLsCoY01e8DouwEBdTLpv1C3A2FZLFu9tLcBwUEpybgctwAhKSc7toCzAoENIKm06LMA4PUeG7NMrwNA2RuJrbSvAaDBFPusGK8AAKkSaaqAqwJgjQ/bpOSrAMB1CUmnTKcDIFkGu6GwpwGAQQApoBinA+Ak/ZuefKMCQAz7CZjkowCj9PB7m0ifAwPY7emVsJ8BY8DrW5AUnwPDpOTJknybAiOM4juM4JsAg3TfqYtIlwLjWNkbiayXAUNA1omEFJcDoyTT+4J4kwIDDM1pgOCTAGL0ytt/RI8CwtjESX2sjwEiwMG7eBCPA4Kkvyl2eIsB4oy4m3TciwBCdLYJc0SHAqJYs3ttqIcBAkCs6WwQhwNiJKpbanSDAcIMp8lk3IMAQ+lCcsqEfwEDtTlSx1B7AcOBMDLAHHsCg00rErjodwNDGSHytbRzAALpGNKygG8AwrUTsqtMawGCgQqSpBhrAkJNAXKg5GcDAhj4Up2wYwPB5PMylnxfAIG06hKTSFsBQYDg8owUWwIBTNvShOBXAsEY0rKBrFMDgOTJkn54TwBAtMBye0RLAQCAu1JwEEsBwEyyMmzcRwKAGKkSaahDAoPNP+DE7D8AA2ktoL6ENwGDAR9gsBwzAwKZDSCptCsAgjT+4J9MIwIBzOyglOQfA4Fk3mCKfBcBAQDMIIAUEwKAmL3gdawLAAA0r6BrRAMDA5k2wMG7+v4CzRZArOvu/QIA9cCYG+L8ATTVQIdL0v8AZLTAcnvG/AM1JIC7U7L+AZjngI2zmvwAAKaAZBOC/ADMxwB44078AmEEAKaC5vwCcQQApoLk/ADQxwB440z+AACmgGQTgPwBnOeAjbOY/gM1JIC7U7D8AGi0wHJ7xP0BNNVAh0vQ/gIA9cCYG+D/As0WQKzr7PwDnTbAwbv4/IA0r6BrRAEDAJi94HWsCQGBAMwggBQRAAFo3mCKfBUCgczsoJTkHQECNP7gn0whA4KZDSCptCkCAwEfYLAcMQCDaS2gvoQ1AwPNP+DE7D0CwBipEmmoQQIATLIybNxFAUCAu1JwEEkAgLTAcntESQPA5MmSfnhNAwEY0rKBrFECQUzb0oTgVQGBgODyjBRZAMG06hKTSFkAAejzMpZ8XQNCGPhSnbBhAoJNAXKg5GUBwoEKkqQYaQECtROyq0xpAELpGNKygG0Dgxkh8rW0cQLDTSsSuOh1AgOBMDLAHHkBQ7U5UsdQeQCD6UJyyoR9AeIMp8lk3IEDgiSqW2p0gQEiQKzpbBCFAsJYs3ttqIUAYnS2CXNEhQICjLibdNyJA6Kkvyl2eIkBQsDBu3gQjQLi2MRJfayNAIL0ytt/RI0CIwzNaYDgkQPDJNP7gniRAWNA1omEFJUDA1jZG4mslQCjdN+pi0iVAkOM4juM4JkD46TkyZJ8mQGDwOtbkBSdAyPY7emVsJ0Aw/Twe5tInQJgDPsJmOShAAAo/ZuefKEBoEEAKaAYpQNAWQa7obClAOB1CUmnTKUCgI0P26TkqQAgqRJpqoCpAcDBFPusGK0DYNkbia20rQEA9R4bs0ytAqENIKm06LEAQSknO7aAsQHhQSnJuBy1A4FZLFu9tLUBIXUy6b9QtQLBjTV7wOi5AGGpOAnGhLkCAcE+m8QcvQOh2UEpybi9AUH1R7vLUL0DcQSnJuR0wQBDFKRv6UDBAREgqbTqEMEB4yyq/ercwQKxOKxG76jBA4NErY/sdMUAUVSy1O1ExQEjYLAd8hDFAfFstWby3MUCw3i2r/OoxQORhLv08HjJAGOUuT31RMkBMaC+hvYQyQIDrL/P9tzJAtG4wRT7rMkDs8TCXfh4zQCB1Mem+UTNAVPgxO/+EM0CIezKNP7gzQLz+Mt9/6zNA8IEzMcAeNEAkBTSDAFI0QFiINNVAhTRAjAs1J4G4NEDAjjV5wes0QPQRNssBHzVAKJU2HUJSNUBcGDdvgoU1QJCbN8HCuDVAxB44EwPsNUD4oThlQx82QCwlObeDUjZAYKg5CcSFNkCUKzpbBLk2QMiuOq1E7DZA/DE7/4QfN0AwtTtRxVI3QGQ4PKMFhjdAmLs89UW5N0DMPj1Hhuw3QADCPZnGHzhANEU+6wZTOEBoyD49R4Y4QJxLP4+HuThA0M4/4cfsOEAEUkAzCCA5QDjVQIVIUzlAbFhB14iGOUCg20Epybk5QNReQnsJ7TlACOJCzUkgOkA8ZUMfilM6QHDoQ3HKhjpApGtEwwq6OkDY7kQVS+06QAxyRWeLIDtAQPVFuctTO0B0eEYLDIc7QKT7Rl1MujtA3H5Hr4ztO0AMAkgBzSA8QESFSFMNVDxAdAhJpU2HPECsi0n3jbo8QNwOSknO7TxAFJJKmw4hPUBEFUvtTlQ9QHyYSz+Phz1ArBtMkc+6PUDknkzjD+49QBQiTTVQIT5ATKVNh5BUPkB8KE7Z0Ic+QLSrTisRuz5A5C5PfVHuPkAcsk/PkSE/QEw1UCHSVD9AhLhQcxKIP0C0O1HFUrs/QOy+UReT7j9ADiGptOkQQECqYqndiSpAQEKkqQYqREBA3uWpL8pdQEB2J6pYandAQBJpqoEKkUBAqqqqqqqqQEBG7KrTSsRAQN4tq/zq3UBAem+rJYv3QEASsatOKxFBQK7yq3fLKkFARjSsoGtEQUDidazJC15BQHq3rPKrd0FAFvmsG0yRQUCuOq1E7KpBQEp8rW2MxEFA4r2tlizeQUB+/62/zPdBQBpBruhsEUJAsoKuEQ0rQkBOxK46rURCQOYFr2NNXkJAgkevjO13QkAaia+1jZFCQLbKr94tq0JATgywB87EQkDqTbAwbt5CQIKPsFkO+EJAHtGwgq4RQ0C2ErGrTitDQFJUsdTuRENA6pWx/Y5eQ0CG17EmL3hDQB4Zsk/PkUNAulqyeG+rQ0BSnLKhD8VDQO7dssqv3kNAhh+z80/4Q0AiYbMc8BFEQLqis0WQK0RAVuSzbjBFREDuJbSX0F5EQIpntMBweERAIqm06RCSREC+6rQSsatEQFYstTtRxURA8m21ZPHeRECKr7WNkfhEQCbxtbYxEkVAvjK239ErRUBadLYIckVFQPK1tjESX0VAjve2WrJ4RUAmObeDUpJFQMJ6t6zyq0VAWry31ZLFRUD2/bf+Mt9FQI4/uCfT+EVAKoG4UHMSRkDCwrh5EyxGQF4EuaKzRUZA9kW5y1NfRkCSh7n083hGQCrJuR2UkkZAxgq6RjSsRkBeTLpv1MVGQPqNuph030ZAks+6wRT5RkAuEbvqtBJHQMZSuxNVLEdAYpS7PPVFR0D61btllV9HQJYXvI41eUdALlm8t9WSR0DKmrzgdaxHQGLcvAkWxkdA/h29MrbfR0CWX71bVvlHQDKhvYT2EkhAyuK9rZYsSEBmJL7WNkZIQP5lvv/WX0hAmqe+KHd5SEAy6b5RF5NIQM4qv3q3rEhAZmy/o1fGSEACrr/M999IQJrvv/WX+UhANjHAHjgTSUDOcsBH2CxJQGq0wHB4RklAAvbAmRhgSUCeN8HCuHlJQDZ5wetYk0lA0rrBFPmsSUBq/ME9mcZJQAY+wmY54ElAnn/Cj9n5SUA6wcK4eRNKQNICw+EZLUpAbkTDCrpGSkAGhsMzWmBKQKLHw1z6eUpAOgnEhZqTSkDWSsSuOq1KQG6MxNfaxkpACs7EAHvgSkCiD8UpG/pKQD5RxVK7E0tA1pLFe1stS0By1MWk+0ZLQAoWxs2bYEtAplfG9jt6S0A+mcYf3JNLQNraxkh8rUtAchzHcRzHS0AOXseavOBLQKafx8Nc+ktAQuHH7PwTTEDaIsgVnS1MQHZkyD49R0xADqbIZ91gTECq58iQfXpMQEIpybkdlExA3mrJ4r2tTEB2rMkLXsdMQBLuyTT+4ExAqi/KXZ76TEBGccqGPhRNQN6yyq/eLU1AevTK2H5HTUASNssBH2FNQK53yyq/ek1ARrnLU1+UTUDi+st8/61NQHo8zKWfx01AFn7Mzj/hTUCuv8z33/pNQEoBzSCAFE5A4kLNSSAuTkB+hM1ywEdOQBbGzZtgYU5AsgfOxAB7TkBKSc7toJROQOaKzhZBrk5AfszOP+HHTkAaDs9ogeFOQLJPz5Eh+05ATpHPusEUT0Dm0s/jYS5PQIIU0AwCSE9AGlbQNaJhT0C2l9BeQntPQE7Z0IfilE9A6hrRsIKuT0CCXNHZIshPQB6e0QLD4U9Att/RK2P7T0CpEGmqgQpQQHUx6b5RF1BAQ1Jp0yEkUEAPc+nn8TBQQN2TafzBPVBAqbTpEJJKUEB31WklYldQQEP26TkyZFBAERdqTgJxUEDdN+pi0n1QQKtYaneiilBAd3nqi3KXUEBFmmqgQqRQQBG76rQSsVBA39tqyeK9UECr/OrdsspQQHkda/KC11BART7rBlPkUEATX2sbI/FQQN9/6y/z/VBAraBrRMMKUUB5wetYkxdRQEfia21jJFFAEwPsgTMxUUDhI2yWAz5RQK1E7KrTSlFAe2Vsv6NXUUBHhuzTc2RRQBWnbOhDcVFA4cfs/BN+UUCv6GwR5IpRQH0J7SW0l1FASSptOoSkUUAXS+1OVLFRQONrbWMkvlFAsYztd/TKUUB9rW2MxNdRQEvO7aCU5FFAF+9ttWTxUUDlD+7JNP5RQLEwbt4EC1JAf1Hu8tQXUkBLcm4HpSRSQBmT7ht1MVJA5bNuMEU+UkCz1O5EFUtSQH/1blnlV1JATRbvbbVkUkAZN2+ChXFSQOdX75ZVflJAs3hvqyWLUkCBme+/9ZdSQE26b9TFpFJAG9vv6JWxUkDn+2/9Zb5SQLUc8BE2y1JAgT1wJgbYUkBPXvA61uRSQBt/cE+m8VJA6Z/wY3b+UkC1wHB4RgtTQIPh8IwWGFNATwJxoeYkU0AdI/G1tjFTQOlDccqGPlNAt2Tx3lZLU0CDhXHzJlhTQFGm8Qf3ZFNAHcdxHMdxU0Dr5/Ewl35TQLcIckVni1NAhSnyWTeYU0BRSnJuB6VTQB9r8oLXsVNA64tyl6e+U0C5rPKrd8tTQIXNcsBH2FNAU+7y1BflU0AfD3Pp5/FTQO0v8/23/lNAuVBzEogLVECHcfMmWBhUQFOSczsoJVRAIbPzT/gxVEDt03NkyD5UQLv083iYS1RAhxV0jWhYVEBVNvShOGVUQCFXdLYIclRA73f0yth+VEC7mHTfqItUQIm59PN4mFRAVdp0CEmlVEAj+/QcGbJUQO8bdTHpvlRAvTz1RbnLVECJXXVaidhUQFd+9W5Z5VRAI591gynyVEDxv/WX+f5UQL3gdazJC1VAiwH2wJkYVUBXInbVaSVVQCVD9uk5MlVA8WN2/gk/VUC/hPYS2ktVQIuldieqWFVAWcb2O3plVUAl53ZQSnJVQPMH92Qaf1VAvyh3eeqLVUCNSfeNuphVQFlqd6KKpVVAJ4v3tlqyVUDzq3fLKr9VQMHM99/6y1VAje139MrYVUBbDvgIm+VVQCcveB1r8lVA9U/4MTv/VUDBcHhGCwxWQI+R+FrbGFZAW7J4b6slVkAp0/iDezJWQPXzeJhLP1ZAwxT5rBtMVkCPNXnB61hWQF1W+dW7ZVZAKXd56otyVkD3l/n+W39WQMO4eRMsjFZAkdn5J/yYVkBd+nk8zKVWQCsb+lCcslZA9zt6ZWy/VkDFXPp5PMxWQJF9eo4M2VZAX576otzlVkArv3q3rPJWQPnf+st8/1ZAxQB74EwMV0CTIfv0HBlXQF9CewntJVdALWP7Hb0yV0D5g3syjT9XQMek+0ZdTFdAk8V7Wy1ZV0Bh5vtv/WVXQC0HfITNcldA+yf8mJ1/V0DHSHytbYxXQJVp/ME9mVdAYYp81g2mV0Avq/zq3bJXQPvLfP+tv1dAyez8E37MV0CVDX0oTtlXQGMu/Twe5ldAL099Ue7yV0D9b/1lvv9XQMmQfXqODFhAl7H9jl4ZWEBj0n2jLiZYQDHz/bf+MlhA/RN+zM4/WEDLNP7gnkxYQJdVfvVuWVhAZXb+CT9mWEAxl34eD3NYQP+3/jLff1hAy9h+R6+MWECZ+f5bf5lYQGUaf3BPplhAMzv/hB+zWED/W3+Z779YQM18/62/zFhAmZ1/wo/ZWEBnvv/WX+ZYQDPff+sv81hAAQAAAAAAWUDNIIAU0AxZQJtBACmgGVlAZ2KAPXAmWUA=",
          "dtype": "f8"
         },
         "y": {
          "bdata": "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",
          "dtype": "f8"
         }
        },
        {
         "mode": "lines+markers",
         "name": "f filtered",
         "type": "scatter",
         "x": {
          "bdata": "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",
          "dtype": "f8"
         },
         "y": {
          "bdata": "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",
          "dtype": "f8"
         }
        }
       ],
       "layout": {
        "hovermode": "x",
        "template": {
         "data": {
          "bar": [
           {
            "error_x": {
             "color": "#2a3f5f"
            },
            "error_y": {
             "color": "#2a3f5f"
            },
            "marker": {
             "line": {
              "color": "white",
              "width": 0.5
             },
             "pattern": {
              "fillmode": "overlay",
              "size": 10,
              "solidity": 0.2
             }
            },
            "type": "bar"
           }
          ],
          "barpolar": [
           {
            "marker": {
             "line": {
              "color": "white",
              "width": 0.5
             },
             "pattern": {
              "fillmode": "overlay",
              "size": 10,
              "solidity": 0.2
             }
            },
            "type": "barpolar"
           }
          ],
          "carpet": [
           {
            "aaxis": {
             "endlinecolor": "#2a3f5f",
             "gridcolor": "#C8D4E3",
             "linecolor": "#C8D4E3",
             "minorgridcolor": "#C8D4E3",
             "startlinecolor": "#2a3f5f"
            },
            "baxis": {
             "endlinecolor": "#2a3f5f",
             "gridcolor": "#C8D4E3",
             "linecolor": "#C8D4E3",
             "minorgridcolor": "#C8D4E3",
             "startlinecolor": "#2a3f5f"
            },
            "type": "carpet"
           }
          ],
          "choropleth": [
           {
            "colorbar": {
             "outlinewidth": 0,
             "ticks": ""
            },
            "type": "choropleth"
           }
          ],
          "contour": [
           {
            "colorbar": {
             "outlinewidth": 0,
             "ticks": ""
            },
            "colorscale": [
             [
              0,
              "#0d0887"
             ],
             [
              0.1111111111111111,
              "#46039f"
             ],
             [
              0.2222222222222222,
              "#7201a8"
             ],
             [
              0.3333333333333333,
              "#9c179e"
             ],
             [
              0.4444444444444444,
              "#bd3786"
             ],
             [
              0.5555555555555556,
              "#d8576b"
             ],
             [
              0.6666666666666666,
              "#ed7953"
             ],
             [
              0.7777777777777778,
              "#fb9f3a"
             ],
             [
              0.8888888888888888,
              "#fdca26"
             ],
             [
              1,
              "#f0f921"
             ]
            ],
            "type": "contour"
           }
          ],
          "contourcarpet": [
           {
            "colorbar": {
             "outlinewidth": 0,
             "ticks": ""
            },
            "type": "contourcarpet"
           }
          ],
          "heatmap": [
           {
            "colorbar": {
             "outlinewidth": 0,
             "ticks": ""
            },
            "colorscale": [
             [
              0,
              "#0d0887"
             ],
             [
              0.1111111111111111,
              "#46039f"
             ],
             [
              0.2222222222222222,
              "#7201a8"
             ],
             [
              0.3333333333333333,
              "#9c179e"
             ],
             [
              0.4444444444444444,
              "#bd3786"
             ],
             [
              0.5555555555555556,
              "#d8576b"
             ],
             [
              0.6666666666666666,
              "#ed7953"
             ],
             [
              0.7777777777777778,
              "#fb9f3a"
             ],
             [
              0.8888888888888888,
              "#fdca26"
             ],
             [
              1,
              "#f0f921"
             ]
            ],
            "type": "heatmap"
           }
          ],
          "histogram": [
           {
            "marker": {
             "pattern": {
              "fillmode": "overlay",
              "size": 10,
              "solidity": 0.2
             }
            },
            "type": "histogram"
           }
          ],
          "histogram2d": [
           {
            "colorbar": {
             "outlinewidth": 0,
             "ticks": ""
            },
            "colorscale": [
             [
              0,
              "#0d0887"
             ],
             [
              0.1111111111111111,
              "#46039f"
             ],
             [
              0.2222222222222222,
              "#7201a8"
             ],
             [
              0.3333333333333333,
              "#9c179e"
             ],
             [
              0.4444444444444444,
              "#bd3786"
             ],
             [
              0.5555555555555556,
              "#d8576b"
             ],
             [
              0.6666666666666666,
              "#ed7953"
             ],
             [
              0.7777777777777778,
              "#fb9f3a"
             ],
             [
              0.8888888888888888,
              "#fdca26"
             ],
             [
              1,
              "#f0f921"
             ]
            ],
            "type": "histogram2d"
           }
          ],
          "histogram2dcontour": [
           {
            "colorbar": {
             "outlinewidth": 0,
             "ticks": ""
            },
            "colorscale": [
             [
              0,
              "#0d0887"
             ],
             [
              0.1111111111111111,
              "#46039f"
             ],
             [
              0.2222222222222222,
              "#7201a8"
             ],
             [
              0.3333333333333333,
              "#9c179e"
             ],
             [
              0.4444444444444444,
              "#bd3786"
             ],
             [
              0.5555555555555556,
              "#d8576b"
             ],
             [
              0.6666666666666666,
              "#ed7953"
             ],
             [
              0.7777777777777778,
              "#fb9f3a"
             ],
             [
              0.8888888888888888,
              "#fdca26"
             ],
             [
              1,
              "#f0f921"
             ]
            ],
            "type": "histogram2dcontour"
           }
          ],
          "mesh3d": [
           {
            "colorbar": {
             "outlinewidth": 0,
             "ticks": ""
            },
            "type": "mesh3d"
           }
          ],
          "parcoords": [
           {
            "line": {
             "colorbar": {
              "outlinewidth": 0,
              "ticks": ""
             }
            },
            "type": "parcoords"
           }
          ],
          "pie": [
           {
            "automargin": true,
            "type": "pie"
           }
          ],
          "scatter": [
           {
            "fillpattern": {
             "fillmode": "overlay",
             "size": 10,
             "solidity": 0.2
            },
            "type": "scatter"
           }
          ],
          "scatter3d": [
           {
            "line": {
             "colorbar": {
              "outlinewidth": 0,
              "ticks": ""
             }
            },
            "marker": {
             "colorbar": {
              "outlinewidth": 0,
              "ticks": ""
             }
            },
            "type": "scatter3d"
           }
          ],
          "scattercarpet": [
           {
            "marker": {
             "colorbar": {
              "outlinewidth": 0,
              "ticks": ""
             }
            },
            "type": "scattercarpet"
           }
          ],
          "scattergeo": [
           {
            "marker": {
             "colorbar": {
              "outlinewidth": 0,
              "ticks": ""
             }
            },
            "type": "scattergeo"
           }
          ],
          "scattergl": [
           {
            "marker": {
             "colorbar": {
              "outlinewidth": 0,
              "ticks": ""
             }
            },
            "type": "scattergl"
           }
          ],
          "scattermap": [
           {
            "marker": {
             "colorbar": {
              "outlinewidth": 0,
              "ticks": ""
             }
            },
            "type": "scattermap"
           }
          ],
          "scattermapbox": [
           {
            "marker": {
             "colorbar": {
              "outlinewidth": 0,
              "ticks": ""
             }
            },
            "type": "scattermapbox"
           }
          ],
          "scatterpolar": [
           {
            "marker": {
             "colorbar": {
              "outlinewidth": 0,
              "ticks": ""
             }
            },
            "type": "scatterpolar"
           }
          ],
          "scatterpolargl": [
           {
            "marker": {
             "colorbar": {
              "outlinewidth": 0,
              "ticks": ""
             }
            },
            "type": "scatterpolargl"
           }
          ],
          "scatterternary": [
           {
            "marker": {
             "colorbar": {
              "outlinewidth": 0,
              "ticks": ""
             }
            },
            "type": "scatterternary"
           }
          ],
          "surface": [
           {
            "colorbar": {
             "outlinewidth": 0,
             "ticks": ""
            },
            "colorscale": [
             [
              0,
              "#0d0887"
             ],
             [
              0.1111111111111111,
              "#46039f"
             ],
             [
              0.2222222222222222,
              "#7201a8"
             ],
             [
              0.3333333333333333,
              "#9c179e"
             ],
             [
              0.4444444444444444,
              "#bd3786"
             ],
             [
              0.5555555555555556,
              "#d8576b"
             ],
             [
              0.6666666666666666,
              "#ed7953"
             ],
             [
              0.7777777777777778,
              "#fb9f3a"
             ],
             [
              0.8888888888888888,
              "#fdca26"
             ],
             [
              1,
              "#f0f921"
             ]
            ],
            "type": "surface"
           }
          ],
          "table": [
           {
            "cells": {
             "fill": {
              "color": "#EBF0F8"
             },
             "line": {
              "color": "white"
             }
            },
            "header": {
             "fill": {
              "color": "#C8D4E3"
             },
             "line": {
              "color": "white"
             }
            },
            "type": "table"
           }
          ]
         },
         "layout": {
          "annotationdefaults": {
           "arrowcolor": "#2a3f5f",
           "arrowhead": 0,
           "arrowwidth": 1
          },
          "autotypenumbers": "strict",
          "coloraxis": {
           "colorbar": {
            "outlinewidth": 0,
            "ticks": ""
           }
          },
          "colorscale": {
           "diverging": [
            [
             0,
             "#8e0152"
            ],
            [
             0.1,
             "#c51b7d"
            ],
            [
             0.2,
             "#de77ae"
            ],
            [
             0.3,
             "#f1b6da"
            ],
            [
             0.4,
             "#fde0ef"
            ],
            [
             0.5,
             "#f7f7f7"
            ],
            [
             0.6,
             "#e6f5d0"
            ],
            [
             0.7,
             "#b8e186"
            ],
            [
             0.8,
             "#7fbc41"
            ],
            [
             0.9,
             "#4d9221"
            ],
            [
             1,
             "#276419"
            ]
           ],
           "sequential": [
            [
             0,
             "#0d0887"
            ],
            [
             0.1111111111111111,
             "#46039f"
            ],
            [
             0.2222222222222222,
             "#7201a8"
            ],
            [
             0.3333333333333333,
             "#9c179e"
            ],
            [
             0.4444444444444444,
             "#bd3786"
            ],
            [
             0.5555555555555556,
             "#d8576b"
            ],
            [
             0.6666666666666666,
             "#ed7953"
            ],
            [
             0.7777777777777778,
             "#fb9f3a"
            ],
            [
             0.8888888888888888,
             "#fdca26"
            ],
            [
             1,
             "#f0f921"
            ]
           ],
           "sequentialminus": [
            [
             0,
             "#0d0887"
            ],
            [
             0.1111111111111111,
             "#46039f"
            ],
            [
             0.2222222222222222,
             "#7201a8"
            ],
            [
             0.3333333333333333,
             "#9c179e"
            ],
            [
             0.4444444444444444,
             "#bd3786"
            ],
            [
             0.5555555555555556,
             "#d8576b"
            ],
            [
             0.6666666666666666,
             "#ed7953"
            ],
            [
             0.7777777777777778,
             "#fb9f3a"
            ],
            [
             0.8888888888888888,
             "#fdca26"
            ],
            [
             1,
             "#f0f921"
            ]
           ]
          },
          "colorway": [
           "#636efa",
           "#EF553B",
           "#00cc96",
           "#ab63fa",
           "#FFA15A",
           "#19d3f3",
           "#FF6692",
           "#B6E880",
           "#FF97FF",
           "#FECB52"
          ],
          "font": {
           "color": "#2a3f5f"
          },
          "geo": {
           "bgcolor": "white",
           "lakecolor": "white",
           "landcolor": "white",
           "showlakes": true,
           "showland": true,
           "subunitcolor": "#C8D4E3"
          },
          "hoverlabel": {
           "align": "left"
          },
          "hovermode": "closest",
          "mapbox": {
           "style": "light"
          },
          "paper_bgcolor": "white",
          "plot_bgcolor": "white",
          "polar": {
           "angularaxis": {
            "gridcolor": "#EBF0F8",
            "linecolor": "#EBF0F8",
            "ticks": ""
           },
           "bgcolor": "white",
           "radialaxis": {
            "gridcolor": "#EBF0F8",
            "linecolor": "#EBF0F8",
            "ticks": ""
           }
          },
          "scene": {
           "xaxis": {
            "backgroundcolor": "white",
            "gridcolor": "#DFE8F3",
            "gridwidth": 2,
            "linecolor": "#EBF0F8",
            "showbackground": true,
            "ticks": "",
            "zerolinecolor": "#EBF0F8"
           },
           "yaxis": {
            "backgroundcolor": "white",
            "gridcolor": "#DFE8F3",
            "gridwidth": 2,
            "linecolor": "#EBF0F8",
            "showbackground": true,
            "ticks": "",
            "zerolinecolor": "#EBF0F8"
           },
           "zaxis": {
            "backgroundcolor": "white",
            "gridcolor": "#DFE8F3",
            "gridwidth": 2,
            "linecolor": "#EBF0F8",
            "showbackground": true,
            "ticks": "",
            "zerolinecolor": "#EBF0F8"
           }
          },
          "shapedefaults": {
           "line": {
            "color": "#2a3f5f"
           }
          },
          "ternary": {
           "aaxis": {
            "gridcolor": "#DFE8F3",
            "linecolor": "#A2B1C6",
            "ticks": ""
           },
           "baxis": {
            "gridcolor": "#DFE8F3",
            "linecolor": "#A2B1C6",
            "ticks": ""
           },
           "bgcolor": "white",
           "caxis": {
            "gridcolor": "#DFE8F3",
            "linecolor": "#A2B1C6",
            "ticks": ""
           }
          },
          "title": {
           "x": 0.05
          },
          "xaxis": {
           "automargin": true,
           "gridcolor": "#EBF0F8",
           "linecolor": "#EBF0F8",
           "ticks": "",
           "title": {
            "standoff": 15
           },
           "zerolinecolor": "#EBF0F8",
           "zerolinewidth": 2
          },
          "yaxis": {
           "automargin": true,
           "gridcolor": "#EBF0F8",
           "linecolor": "#EBF0F8",
           "ticks": "",
           "title": {
            "standoff": 15
           },
           "zerolinecolor": "#EBF0F8",
           "zerolinewidth": 2
          }
         }
        },
        "title": {
         "text": "Plot of F(r) with noise and filtered.  F(r) = 1/r."
        },
        "xaxis": {
         "range": [
          2,
          4
         ],
         "title": {
          "text": "x"
         },
         "type": "linear"
        },
        "yaxis": {
         "range": [
          -0.5,
          0.5
         ],
         "title": {
          "text": "y"
         }
        }
       }
      }
     },
     "metadata": {},
     "output_type": "display_data"
    }
   ],
   "source": [
    "fig = go.Figure()\n",
    "fig.add_trace(go.Scatter(x=r, y=fn, name=\"f with noise\", mode=\"lines+markers\"))\n",
    "fig.add_trace(go.Scatter(x=r, y=ff, name=\"f filtered\", mode=\"lines+markers\"))\n",
    "fig.update_layout(\n",
    "    title='Plot of F(r) with noise and filtered.  F(r) = 1/r.',\n",
    "    xaxis=dict(title='x', type='linear'),  # use 'log' for log scale\n",
    "    yaxis=dict(title='y'),\n",
    "    xaxis_range=[2,4],\n",
    "    yaxis_range=[-0.5,0.5],\n",
    "    hovermode='x',\n",
    "    template='plotly_white'\n",
    ")"
   ]
  },
  {
   "cell_type": "code",
   "execution_count": 21,
   "id": "68e2dad7-7984-4e1d-8bbb-ffd7fb6c700d",
   "metadata": {},
   "outputs": [
    {
     "name": "stderr",
     "output_type": "stream",
     "text": [
      "/Users/dave/projects/pynwave2d/nwave/compactfilters.py:122: RuntimeWarning:\n",
      "\n",
      "divide by zero encountered in matmul\n",
      "\n",
      "/Users/dave/projects/pynwave2d/nwave/compactfilters.py:122: RuntimeWarning:\n",
      "\n",
      "overflow encountered in matmul\n",
      "\n",
      "/Users/dave/projects/pynwave2d/nwave/compactfilters.py:122: RuntimeWarning:\n",
      "\n",
      "invalid value encountered in matmul\n",
      "\n",
      "/Users/dave/projects/pynwave2d/nwave/compactderivs.py:578: RuntimeWarning:\n",
      "\n",
      "divide by zero encountered in matmul\n",
      "\n",
      "/Users/dave/projects/pynwave2d/nwave/compactderivs.py:578: RuntimeWarning:\n",
      "\n",
      "overflow encountered in matmul\n",
      "\n",
      "/Users/dave/projects/pynwave2d/nwave/compactderivs.py:578: RuntimeWarning:\n",
      "\n",
      "invalid value encountered in matmul\n",
      "\n"
     ]
    }
   ],
   "source": [
    "Gtf = CF.filter(Gt)\n",
    "d_Gtf = D1.grad(Gtf)"
   ]
  },
  {
   "cell_type": "code",
   "execution_count": 22,
   "id": "b2031c39-6e63-43f6-9cbe-ae555b231afd",
   "metadata": {},
   "outputs": [
    {
     "data": {
      "application/vnd.plotly.v1+json": {
       "config": {
        "plotlyServerURL": "https://plot.ly"
       },
       "data": [
        {
         "mode": "lines+markers",
         "name": "d_Gt",
         "type": "scatter",
         "x": {
          "bdata": "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",
          "dtype": "f8"
         },
         "y": {
          "bdata": "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",
          "dtype": "f8"
         }
        },
        {
         "mode": "lines+markers",
         "name": "d_Gtf",
         "type": "scatter",
         "x": {
          "bdata": "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",
          "dtype": "f8"
         },
         "y": {
          "bdata": "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",
          "dtype": "f8"
         }
        }
       ],
       "layout": {
        "hovermode": "x",
        "template": {
         "data": {
          "bar": [
           {
            "error_x": {
             "color": "#2a3f5f"
            },
            "error_y": {
             "color": "#2a3f5f"
            },
            "marker": {
             "line": {
              "color": "white",
              "width": 0.5
             },
             "pattern": {
              "fillmode": "overlay",
              "size": 10,
              "solidity": 0.2
             }
            },
            "type": "bar"
           }
          ],
          "barpolar": [
           {
            "marker": {
             "line": {
              "color": "white",
              "width": 0.5
             },
             "pattern": {
              "fillmode": "overlay",
              "size": 10,
              "solidity": 0.2
             }
            },
            "type": "barpolar"
           }
          ],
          "carpet": [
           {
            "aaxis": {
             "endlinecolor": "#2a3f5f",
             "gridcolor": "#C8D4E3",
             "linecolor": "#C8D4E3",
             "minorgridcolor": "#C8D4E3",
             "startlinecolor": "#2a3f5f"
            },
            "baxis": {
             "endlinecolor": "#2a3f5f",
             "gridcolor": "#C8D4E3",
             "linecolor": "#C8D4E3",
             "minorgridcolor": "#C8D4E3",
             "startlinecolor": "#2a3f5f"
            },
            "type": "carpet"
           }
          ],
          "choropleth": [
           {
            "colorbar": {
             "outlinewidth": 0,
             "ticks": ""
            },
            "type": "choropleth"
           }
          ],
          "contour": [
           {
            "colorbar": {
             "outlinewidth": 0,
             "ticks": ""
            },
            "colorscale": [
             [
              0,
              "#0d0887"
             ],
             [
              0.1111111111111111,
              "#46039f"
             ],
             [
              0.2222222222222222,
              "#7201a8"
             ],
             [
              0.3333333333333333,
              "#9c179e"
             ],
             [
              0.4444444444444444,
              "#bd3786"
             ],
             [
              0.5555555555555556,
              "#d8576b"
             ],
             [
              0.6666666666666666,
              "#ed7953"
             ],
             [
              0.7777777777777778,
              "#fb9f3a"
             ],
             [
              0.8888888888888888,
              "#fdca26"
             ],
             [
              1,
              "#f0f921"
             ]
            ],
            "type": "contour"
           }
          ],
          "contourcarpet": [
           {
            "colorbar": {
             "outlinewidth": 0,
             "ticks": ""
            },
            "type": "contourcarpet"
           }
          ],
          "heatmap": [
           {
            "colorbar": {
             "outlinewidth": 0,
             "ticks": ""
            },
            "colorscale": [
             [
              0,
              "#0d0887"
             ],
             [
              0.1111111111111111,
              "#46039f"
             ],
             [
              0.2222222222222222,
              "#7201a8"
             ],
             [
              0.3333333333333333,
              "#9c179e"
             ],
             [
              0.4444444444444444,
              "#bd3786"
             ],
             [
              0.5555555555555556,
              "#d8576b"
             ],
             [
              0.6666666666666666,
              "#ed7953"
             ],
             [
              0.7777777777777778,
              "#fb9f3a"
             ],
             [
              0.8888888888888888,
              "#fdca26"
             ],
             [
              1,
              "#f0f921"
             ]
            ],
            "type": "heatmap"
           }
          ],
          "histogram": [
           {
            "marker": {
             "pattern": {
              "fillmode": "overlay",
              "size": 10,
              "solidity": 0.2
             }
            },
            "type": "histogram"
           }
          ],
          "histogram2d": [
           {
            "colorbar": {
             "outlinewidth": 0,
             "ticks": ""
            },
            "colorscale": [
             [
              0,
              "#0d0887"
             ],
             [
              0.1111111111111111,
              "#46039f"
             ],
             [
              0.2222222222222222,
              "#7201a8"
             ],
             [
              0.3333333333333333,
              "#9c179e"
             ],
             [
              0.4444444444444444,
              "#bd3786"
             ],
             [
              0.5555555555555556,
              "#d8576b"
             ],
             [
              0.6666666666666666,
              "#ed7953"
             ],
             [
              0.7777777777777778,
              "#fb9f3a"
             ],
             [
              0.8888888888888888,
              "#fdca26"
             ],
             [
              1,
              "#f0f921"
             ]
            ],
            "type": "histogram2d"
           }
          ],
          "histogram2dcontour": [
           {
            "colorbar": {
             "outlinewidth": 0,
             "ticks": ""
            },
            "colorscale": [
             [
              0,
              "#0d0887"
             ],
             [
              0.1111111111111111,
              "#46039f"
             ],
             [
              0.2222222222222222,
              "#7201a8"
             ],
             [
              0.3333333333333333,
              "#9c179e"
             ],
             [
              0.4444444444444444,
              "#bd3786"
             ],
             [
              0.5555555555555556,
              "#d8576b"
             ],
             [
              0.6666666666666666,
              "#ed7953"
             ],
             [
              0.7777777777777778,
              "#fb9f3a"
             ],
             [
              0.8888888888888888,
              "#fdca26"
             ],
             [
              1,
              "#f0f921"
             ]
            ],
            "type": "histogram2dcontour"
           }
          ],
          "mesh3d": [
           {
            "colorbar": {
             "outlinewidth": 0,
             "ticks": ""
            },
            "type": "mesh3d"
           }
          ],
          "parcoords": [
           {
            "line": {
             "colorbar": {
              "outlinewidth": 0,
              "ticks": ""
             }
            },
            "type": "parcoords"
           }
          ],
          "pie": [
           {
            "automargin": true,
            "type": "pie"
           }
          ],
          "scatter": [
           {
            "fillpattern": {
             "fillmode": "overlay",
             "size": 10,
             "solidity": 0.2
            },
            "type": "scatter"
           }
          ],
          "scatter3d": [
           {
            "line": {
             "colorbar": {
              "outlinewidth": 0,
              "ticks": ""
             }
            },
            "marker": {
             "colorbar": {
              "outlinewidth": 0,
              "ticks": ""
             }
            },
            "type": "scatter3d"
           }
          ],
          "scattercarpet": [
           {
            "marker": {
             "colorbar": {
              "outlinewidth": 0,
              "ticks": ""
             }
            },
            "type": "scattercarpet"
           }
          ],
          "scattergeo": [
           {
            "marker": {
             "colorbar": {
              "outlinewidth": 0,
              "ticks": ""
             }
            },
            "type": "scattergeo"
           }
          ],
          "scattergl": [
           {
            "marker": {
             "colorbar": {
              "outlinewidth": 0,
              "ticks": ""
             }
            },
            "type": "scattergl"
           }
          ],
          "scattermap": [
           {
            "marker": {
             "colorbar": {
              "outlinewidth": 0,
              "ticks": ""
             }
            },
            "type": "scattermap"
           }
          ],
          "scattermapbox": [
           {
            "marker": {
             "colorbar": {
              "outlinewidth": 0,
              "ticks": ""
             }
            },
            "type": "scattermapbox"
           }
          ],
          "scatterpolar": [
           {
            "marker": {
             "colorbar": {
              "outlinewidth": 0,
              "ticks": ""
             }
            },
            "type": "scatterpolar"
           }
          ],
          "scatterpolargl": [
           {
            "marker": {
             "colorbar": {
              "outlinewidth": 0,
              "ticks": ""
             }
            },
            "type": "scatterpolargl"
           }
          ],
          "scatterternary": [
           {
            "marker": {
             "colorbar": {
              "outlinewidth": 0,
              "ticks": ""
             }
            },
            "type": "scatterternary"
           }
          ],
          "surface": [
           {
            "colorbar": {
             "outlinewidth": 0,
             "ticks": ""
            },
            "colorscale": [
             [
              0,
              "#0d0887"
             ],
             [
              0.1111111111111111,
              "#46039f"
             ],
             [
              0.2222222222222222,
              "#7201a8"
             ],
             [
              0.3333333333333333,
              "#9c179e"
             ],
             [
              0.4444444444444444,
              "#bd3786"
             ],
             [
              0.5555555555555556,
              "#d8576b"
             ],
             [
              0.6666666666666666,
              "#ed7953"
             ],
             [
              0.7777777777777778,
              "#fb9f3a"
             ],
             [
              0.8888888888888888,
              "#fdca26"
             ],
             [
              1,
              "#f0f921"
             ]
            ],
            "type": "surface"
           }
          ],
          "table": [
           {
            "cells": {
             "fill": {
              "color": "#EBF0F8"
             },
             "line": {
              "color": "white"
             }
            },
            "header": {
             "fill": {
              "color": "#C8D4E3"
             },
             "line": {
              "color": "white"
             }
            },
            "type": "table"
           }
          ]
         },
         "layout": {
          "annotationdefaults": {
           "arrowcolor": "#2a3f5f",
           "arrowhead": 0,
           "arrowwidth": 1
          },
          "autotypenumbers": "strict",
          "coloraxis": {
           "colorbar": {
            "outlinewidth": 0,
            "ticks": ""
           }
          },
          "colorscale": {
           "diverging": [
            [
             0,
             "#8e0152"
            ],
            [
             0.1,
             "#c51b7d"
            ],
            [
             0.2,
             "#de77ae"
            ],
            [
             0.3,
             "#f1b6da"
            ],
            [
             0.4,
             "#fde0ef"
            ],
            [
             0.5,
             "#f7f7f7"
            ],
            [
             0.6,
             "#e6f5d0"
            ],
            [
             0.7,
             "#b8e186"
            ],
            [
             0.8,
             "#7fbc41"
            ],
            [
             0.9,
             "#4d9221"
            ],
            [
             1,
             "#276419"
            ]
           ],
           "sequential": [
            [
             0,
             "#0d0887"
            ],
            [
             0.1111111111111111,
             "#46039f"
            ],
            [
             0.2222222222222222,
             "#7201a8"
            ],
            [
             0.3333333333333333,
             "#9c179e"
            ],
            [
             0.4444444444444444,
             "#bd3786"
            ],
            [
             0.5555555555555556,
             "#d8576b"
            ],
            [
             0.6666666666666666,
             "#ed7953"
            ],
            [
             0.7777777777777778,
             "#fb9f3a"
            ],
            [
             0.8888888888888888,
             "#fdca26"
            ],
            [
             1,
             "#f0f921"
            ]
           ],
           "sequentialminus": [
            [
             0,
             "#0d0887"
            ],
            [
             0.1111111111111111,
             "#46039f"
            ],
            [
             0.2222222222222222,
             "#7201a8"
            ],
            [
             0.3333333333333333,
             "#9c179e"
            ],
            [
             0.4444444444444444,
             "#bd3786"
            ],
            [
             0.5555555555555556,
             "#d8576b"
            ],
            [
             0.6666666666666666,
             "#ed7953"
            ],
            [
             0.7777777777777778,
             "#fb9f3a"
            ],
            [
             0.8888888888888888,
             "#fdca26"
            ],
            [
             1,
             "#f0f921"
            ]
           ]
          },
          "colorway": [
           "#636efa",
           "#EF553B",
           "#00cc96",
           "#ab63fa",
           "#FFA15A",
           "#19d3f3",
           "#FF6692",
           "#B6E880",
           "#FF97FF",
           "#FECB52"
          ],
          "font": {
           "color": "#2a3f5f"
          },
          "geo": {
           "bgcolor": "white",
           "lakecolor": "white",
           "landcolor": "white",
           "showlakes": true,
           "showland": true,
           "subunitcolor": "#C8D4E3"
          },
          "hoverlabel": {
           "align": "left"
          },
          "hovermode": "closest",
          "mapbox": {
           "style": "light"
          },
          "paper_bgcolor": "white",
          "plot_bgcolor": "white",
          "polar": {
           "angularaxis": {
            "gridcolor": "#EBF0F8",
            "linecolor": "#EBF0F8",
            "ticks": ""
           },
           "bgcolor": "white",
           "radialaxis": {
            "gridcolor": "#EBF0F8",
            "linecolor": "#EBF0F8",
            "ticks": ""
           }
          },
          "scene": {
           "xaxis": {
            "backgroundcolor": "white",
            "gridcolor": "#DFE8F3",
            "gridwidth": 2,
            "linecolor": "#EBF0F8",
            "showbackground": true,
            "ticks": "",
            "zerolinecolor": "#EBF0F8"
           },
           "yaxis": {
            "backgroundcolor": "white",
            "gridcolor": "#DFE8F3",
            "gridwidth": 2,
            "linecolor": "#EBF0F8",
            "showbackground": true,
            "ticks": "",
            "zerolinecolor": "#EBF0F8"
           },
           "zaxis": {
            "backgroundcolor": "white",
            "gridcolor": "#DFE8F3",
            "gridwidth": 2,
            "linecolor": "#EBF0F8",
            "showbackground": true,
            "ticks": "",
            "zerolinecolor": "#EBF0F8"
           }
          },
          "shapedefaults": {
           "line": {
            "color": "#2a3f5f"
           }
          },
          "ternary": {
           "aaxis": {
            "gridcolor": "#DFE8F3",
            "linecolor": "#A2B1C6",
            "ticks": ""
           },
           "baxis": {
            "gridcolor": "#DFE8F3",
            "linecolor": "#A2B1C6",
            "ticks": ""
           },
           "bgcolor": "white",
           "caxis": {
            "gridcolor": "#DFE8F3",
            "linecolor": "#A2B1C6",
            "ticks": ""
           }
          },
          "title": {
           "x": 0.05
          },
          "xaxis": {
           "automargin": true,
           "gridcolor": "#EBF0F8",
           "linecolor": "#EBF0F8",
           "ticks": "",
           "title": {
            "standoff": 15
           },
           "zerolinecolor": "#EBF0F8",
           "zerolinewidth": 2
          },
          "yaxis": {
           "automargin": true,
           "gridcolor": "#EBF0F8",
           "linecolor": "#EBF0F8",
           "ticks": "",
           "title": {
            "standoff": 15
           },
           "zerolinecolor": "#EBF0F8",
           "zerolinewidth": 2
          }
         }
        },
        "title": {
         "text": "Derivative d_Gt and Derivative of Filtered Gtf"
        },
        "xaxis": {
         "range": [
          -1,
          3
         ],
         "title": {
          "text": "x"
         },
         "type": "linear"
        },
        "yaxis": {
         "title": {
          "text": "y"
         }
        }
       }
      }
     },
     "metadata": {},
     "output_type": "display_data"
    }
   ],
   "source": [
    "fig = go.Figure()\n",
    "fig.add_trace(go.Scatter(x=r, y=d_Gt, name=\"d_Gt\", mode=\"lines+markers\"))\n",
    "fig.add_trace(go.Scatter(x=r, y=d_Gtf, name=\"d_Gtf\", mode=\"lines+markers\"))\n",
    "fig.update_layout(\n",
    "    title='Derivative d_Gt and Derivative of Filtered Gtf',\n",
    "    xaxis=dict(title='x', type='linear'),  # use 'log' for log scale\n",
    "    yaxis=dict(title='y'),\n",
    "    xaxis_range=[-1,3],\n",
    "    hovermode='x',\n",
    "    template='plotly_white'\n",
    ")"
   ]
  },
  {
   "cell_type": "code",
   "execution_count": 23,
   "id": "2c642e2c-c551-4b3b-9514-5c8096b40347",
   "metadata": {
    "scrolled": true
   },
   "outputs": [
    {
     "data": {
      "application/vnd.plotly.v1+json": {
       "config": {
        "plotlyServerURL": "https://plot.ly"
       },
       "data": [
        {
         "mode": "lines+markers",
         "name": "Gt",
         "type": "scatter",
         "x": {
          "bdata": "Z2KAPXAmWcCaQQApoBlZwM0ggBTQDFnAAAAAAAAAWcAz33/rL/NYwGa+/9Zf5ljAmZ1/wo/ZWMDMfP+tv8xYwP9bf5nvv1jAMjv/hB+zWMBlGn9wT6ZYwJj5/lt/mVjAy9h+R6+MWMD+t/4y339YwDGXfh4Pc1jAZHb+CT9mWMCXVX71bllYwMo0/uCeTFjA/RN+zM4/WMAw8/23/jJYwGPSfaMuJljAlrH9jl4ZWMDJkH16jgxYwPxv/WW+/1fAL099Ue7yV8BiLv08HuZXwJUNfShO2VfAyOz8E37MV8D7y3z/rb9XwC6r/OrdslfAYYp81g2mV8CUafzBPZlXwMdIfK1tjFfA+if8mJ1/V8AtB3yEzXJXwGDm+2/9ZVfAk8V7Wy1ZV8DGpPtGXUxXwPmDezKNP1fALGP7Hb0yV8BfQnsJ7SVXwJIh+/QcGVfAxQB74EwMV8D43/rLfP9WwCu/eres8lbAXp76otzlVsCRfXqODNlWwMRc+nk8zFbA9zt6ZWy/VsAqG/pQnLJWwF36eTzMpVbAkNn5J/yYVsDDuHkTLIxWwPaX+f5bf1bAKXd56otyVsBcVvnVu2VWwI81ecHrWFbAwhT5rBtMVsD183iYSz9WwCjT+IN7MlbAW7J4b6slVsCOkfha2xhWwMFweEYLDFbA9E/4MTv/VcAnL3gda/JVwFoO+Aib5VXAje139MrYVcDAzPff+stVwPOrd8sqv1XAJov3tlqyVcBZaneiiqVVwIxJ9426mFXAvyh3eeqLVcDyB/dkGn9VwCXndlBKclXAWMb2O3plVcCKpXYnqlhVwL6E9hLaS1XA8GN2/gk/VcAkQ/bpOTJVwFYidtVpJVXAigH2wJkYVcC84HWsyQtVwPC/9Zf5/lTAIp91gynyVMBWfvVuWeVUwIhddVqJ2FTAvDz1RbnLVMDuG3Ux6b5UwCL79BwZslTAVNp0CEmlVMCIufTzeJhUwLqYdN+oi1TA7nf0yth+VMAgV3S2CHJUwFQ29KE4ZVTAhhV0jWhYVMC69PN4mEtUwOzTc2TIPlTAILPzT/gxVMBSknM7KCVUwIZx8yZYGFTAuFBzEogLVMDsL/P9t/5TwB4Pc+nn8VPAUu7y1BflU8CEzXLAR9hTwLes8qt3y1PA6otyl6e+U8Ada/KC17FTwFBKcm4HpVPAgynyWTeYU8C2CHJFZ4tTwOnn8TCXflPAHMdxHMdxU8BPpvEH92RTwIKFcfMmWFPAtWTx3lZLU8DoQ3HKhj5TwBsj8bW2MVPATgJxoeYkU8CB4fCMFhhTwLTAcHhGC1PA55/wY3b+UsAaf3BPpvFSwE1e8DrW5FLAgD1wJgbYUsCzHPARNstSwOb7b/1lvlLAGdvv6JWxUsBMum/UxaRSwH+Z77/1l1LAsnhvqyWLUsDlV++WVX5SwBg3b4KFcVLASxbvbbVkUsB+9W5Z5VdSwLHU7kQVS1LA5LNuMEU+UsAXk+4bdTFSwEpybgelJFLAfVHu8tQXUsCwMG7eBAtSwOMP7sk0/lHAFu9ttWTxUcBJzu2glORRwHytbYzE11HAr4ztd/TKUcDia21jJL5RwBVL7U5UsVHASCptOoSkUcB7Ce0ltJdRwK7obBHkilHA4cfs/BN+UcAUp2zoQ3FRwEeG7NNzZFHAemVsv6NXUcCtROyq00pRwOAjbJYDPlHAEwPsgTMxUcBG4mttYyRRwHnB61iTF1HArKBrRMMKUcDff+sv8/1QwBJfaxsj8VDART7rBlPkUMB4HWvygtdQwKv86t2yylDA3ttqyeK9UMARu+q0ErFQwESaaqBCpFDAd3nqi3KXUMCqWGp3oopQwN036mLSfVDAEBdqTgJxUMBD9uk5MmRQwHbVaSViV1DAqbTpEJJKUMDck2n8wT1QwA9z6efxMFDAQlJp0yEkUMB1Mem+URdQwKgQaaqBClDAtt/RK2P7T8AcntECw+FPwIJc0dkiyE/A6BrRsIKuT8BO2dCH4pRPwLSX0F5Ce0/AGlbQNaJhT8CAFNAMAkhPwObSz+NhLk/ATJHPusEUT8CyT8+RIftOwBgOz2iB4U7AfszOP+HHTsDkis4WQa5OwEpJzu2glE7AsAfOxAB7TsAWxs2bYGFOwHyEzXLAR07A4kLNSSAuTsBIAc0ggBROwK6/zPff+k3AFH7Mzj/hTcB6PMyln8dNwOD6y3z/rU3ARrnLU1+UTcCsd8sqv3pNwBI2ywEfYU3AePTK2H5HTcDessqv3i1NwERxyoY+FE3Aqi/KXZ76TMAP7sk0/uBMwHWsyQtex0zA22rJ4r2tTMBBKcm5HZRMwKfnyJB9ekzADabIZ91gTMBzZMg+PUdMwNkiyBWdLUzAP+HH7PwTTMCln8fDXPpLwAtex5q84EvAcRzHcRzHS8DX2sZIfK1LwD2Zxh/ck0vAo1fG9jt6S8AJFsbNm2BLwG/UxaT7RkvA1ZLFe1stS8A7UcVSuxNLwKEPxSkb+krAB87EAHvgSsBtjMTX2sZKwNNKxK46rUrAOQnEhZqTSsCfx8Nc+nlKwAWGwzNaYErAa0TDCrpGSsDRAsPhGS1KwDfBwrh5E0rAnX/Cj9n5ScADPsJmOeBJwGn8wT2ZxknAz7rBFPmsScA1ecHrWJNJwJs3wcK4eUnAAfbAmRhgScBntMBweEZJwM1ywEfYLEnAMzHAHjgTScCZ77/1l/lIwP+tv8z330jAZWy/o1fGSMDLKr96t6xIwDHpvlEXk0jAl6e+KHd5SMD9Zb7/1l9IwGMkvtY2RkjAyeK9rZYsSMAvob2E9hJIwJVfvVtW+UfA+x29MrbfR8Bh3LwJFsZHwMeavOB1rEfALVm8t9WSR8CTF7yONXlHwPnVu2WVX0fAX5S7PPVFR8DFUrsTVSxHwCsRu+q0EkfAkc+6wRT5RsD3jbqYdN9GwF1Mum/UxUbAwwq6RjSsRsApybkdlJJGwI+HufTzeEbA9UW5y1NfRsBbBLmis0VGwMHCuHkTLEbAJ4G4UHMSRsCNP7gn0/hFwPP9t/4y30XAWby31ZLFRcC/eres8qtFwCU5t4NSkkXAi/e2WrJ4RcDxtbYxEl9FwFd0tghyRUXAvTK239ErRcAj8bW2MRJFwImvtY2R+ETA7221ZPHeRMBVLLU7UcVEwLvqtBKxq0TAIam06RCSRMCHZ7TAcHhEwOwltJfQXkTAUuSzbjBFRMC4orNFkCtEwB5hsxzwEUTAhB+z80/4Q8Dq3bLKr95DwFCcsqEPxUPAtlqyeG+rQ8AcGbJPz5FDwILXsSYveEPA6JWx/Y5eQ8BOVLHU7kRDwLQSsatOK0PAGtGwgq4RQ8CAj7BZDvhCwOZNsDBu3kLATAywB87EQsCyyq/eLatCwBiJr7WNkULAfkevjO13QsDkBa9jTV5CwErErjqtRELAsIKuEQ0rQsAWQa7obBFCwHz/rb/M90HA4r2tlizeQcBIfK1tjMRBwK46rUTsqkHAFPmsG0yRQcB6t6zyq3dBwOB1rMkLXkHARjSsoGtEQcCs8qt3yypBwBKxq04rEUHAeG+rJYv3QMDeLav86t1AwETsqtNKxEDAqqqqqqqqQMAQaaqBCpFAwHYnqlhqd0DA3OWpL8pdQMBCpKkGKkRAwKhiqd2JKkDADiGptOkQQMDovlEXk+4/wLQ7UcVSuz/AgLhQcxKIP8BMNVAh0lQ/wBiyT8+RIT/A5C5PfVHuPsCwq04rEbs+wHwoTtnQhz7ASKVNh5BUPsAUIk01UCE+wOCeTOMP7j3ArBtMkc+6PcB4mEs/j4c9wEQVS+1OVD3AEJJKmw4hPcDcDkpJzu08wKiLSfeNujzAdAhJpU2HPMBAhUhTDVQ8wAwCSAHNIDzA2H5Hr4ztO8Ck+0ZdTLo7wHB4RgsMhzvAPPVFuctTO8AIckVniyA7wNTuRBVL7TrAoGtEwwq6OsBs6ENxyoY6wDhlQx+KUzrABOJCzUkgOsDQXkJ7Ce05wJzbQSnJuTnAaFhB14iGOcA01UCFSFM5wABSQDMIIDnAzM4/4cfsOMCYSz+Ph7k4wGTIPj1HhjjAMEU+6wZTOMD8wT2Zxh84wMg+PUeG7DfAlLs89UW5N8BgODyjBYY3wCy1O1HFUjfA+DE7/4QfN8DErjqtROw2wJArOlsEuTbAXKg5CcSFNsAoJTm3g1I2wPShOGVDHzbAwB44EwPsNcCMmzfBwrg1wFgYN2+ChTXAJJU2HUJSNcDwETbLAR81wLyONXnB6zTAiAs1J4G4NMBUiDTVQIU0wCAFNIMAUjTA7IEzMcAeNMC4/jLff+szwIR7Mo0/uDPAUPgxO/+EM8AcdTHpvlEzwOjxMJd+HjPAtG4wRT7rMsCA6y/z/bcywExoL6G9hDLAGOUuT31RMsDkYS79PB4ywLDeLav86jHAfFstWby3McBI2CwHfIQxwBRVLLU7UTHA4NErY/sdMcCsTisRu+owwHjLKr96tzDAREgqbTqEMMAQxSkb+lAwwNxBKcm5HTDAUH1R7vLUL8DodlBKcm4vwIBwT6bxBy/AGGpOAnGhLsCoY01e8DouwEBdTLpv1C3A2FZLFu9tLcBwUEpybgctwAhKSc7toCzAoENIKm06LMA4PUeG7NMrwNA2RuJrbSvAaDBFPusGK8AAKkSaaqAqwJgjQ/bpOSrAMB1CUmnTKcDIFkGu6GwpwGAQQApoBinA+Ak/ZuefKMCQAz7CZjkowCj9PB7m0ifAwPY7emVsJ8BY8DrW5AUnwPDpOTJknybAiOM4juM4JsAg3TfqYtIlwLjWNkbiayXAUNA1omEFJcDoyTT+4J4kwIDDM1pgOCTAGL0ytt/RI8CwtjESX2sjwEiwMG7eBCPA4Kkvyl2eIsB4oy4m3TciwBCdLYJc0SHAqJYs3ttqIcBAkCs6WwQhwNiJKpbanSDAcIMp8lk3IMAQ+lCcsqEfwEDtTlSx1B7AcOBMDLAHHsCg00rErjodwNDGSHytbRzAALpGNKygG8AwrUTsqtMawGCgQqSpBhrAkJNAXKg5GcDAhj4Up2wYwPB5PMylnxfAIG06hKTSFsBQYDg8owUWwIBTNvShOBXAsEY0rKBrFMDgOTJkn54TwBAtMBye0RLAQCAu1JwEEsBwEyyMmzcRwKAGKkSaahDAoPNP+DE7D8AA2ktoL6ENwGDAR9gsBwzAwKZDSCptCsAgjT+4J9MIwIBzOyglOQfA4Fk3mCKfBcBAQDMIIAUEwKAmL3gdawLAAA0r6BrRAMDA5k2wMG7+v4CzRZArOvu/QIA9cCYG+L8ATTVQIdL0v8AZLTAcnvG/AM1JIC7U7L+AZjngI2zmvwAAKaAZBOC/ADMxwB44078AmEEAKaC5vwCcQQApoLk/ADQxwB440z+AACmgGQTgPwBnOeAjbOY/gM1JIC7U7D8AGi0wHJ7xP0BNNVAh0vQ/gIA9cCYG+D/As0WQKzr7PwDnTbAwbv4/IA0r6BrRAEDAJi94HWsCQGBAMwggBQRAAFo3mCKfBUCgczsoJTkHQECNP7gn0whA4KZDSCptCkCAwEfYLAcMQCDaS2gvoQ1AwPNP+DE7D0CwBipEmmoQQIATLIybNxFAUCAu1JwEEkAgLTAcntESQPA5MmSfnhNAwEY0rKBrFECQUzb0oTgVQGBgODyjBRZAMG06hKTSFkAAejzMpZ8XQNCGPhSnbBhAoJNAXKg5GUBwoEKkqQYaQECtROyq0xpAELpGNKygG0Dgxkh8rW0cQLDTSsSuOh1AgOBMDLAHHkBQ7U5UsdQeQCD6UJyyoR9AeIMp8lk3IEDgiSqW2p0gQEiQKzpbBCFAsJYs3ttqIUAYnS2CXNEhQICjLibdNyJA6Kkvyl2eIkBQsDBu3gQjQLi2MRJfayNAIL0ytt/RI0CIwzNaYDgkQPDJNP7gniRAWNA1omEFJUDA1jZG4mslQCjdN+pi0iVAkOM4juM4JkD46TkyZJ8mQGDwOtbkBSdAyPY7emVsJ0Aw/Twe5tInQJgDPsJmOShAAAo/ZuefKEBoEEAKaAYpQNAWQa7obClAOB1CUmnTKUCgI0P26TkqQAgqRJpqoCpAcDBFPusGK0DYNkbia20rQEA9R4bs0ytAqENIKm06LEAQSknO7aAsQHhQSnJuBy1A4FZLFu9tLUBIXUy6b9QtQLBjTV7wOi5AGGpOAnGhLkCAcE+m8QcvQOh2UEpybi9AUH1R7vLUL0DcQSnJuR0wQBDFKRv6UDBAREgqbTqEMEB4yyq/ercwQKxOKxG76jBA4NErY/sdMUAUVSy1O1ExQEjYLAd8hDFAfFstWby3MUCw3i2r/OoxQORhLv08HjJAGOUuT31RMkBMaC+hvYQyQIDrL/P9tzJAtG4wRT7rMkDs8TCXfh4zQCB1Mem+UTNAVPgxO/+EM0CIezKNP7gzQLz+Mt9/6zNA8IEzMcAeNEAkBTSDAFI0QFiINNVAhTRAjAs1J4G4NEDAjjV5wes0QPQRNssBHzVAKJU2HUJSNUBcGDdvgoU1QJCbN8HCuDVAxB44EwPsNUD4oThlQx82QCwlObeDUjZAYKg5CcSFNkCUKzpbBLk2QMiuOq1E7DZA/DE7/4QfN0AwtTtRxVI3QGQ4PKMFhjdAmLs89UW5N0DMPj1Hhuw3QADCPZnGHzhANEU+6wZTOEBoyD49R4Y4QJxLP4+HuThA0M4/4cfsOEAEUkAzCCA5QDjVQIVIUzlAbFhB14iGOUCg20Epybk5QNReQnsJ7TlACOJCzUkgOkA8ZUMfilM6QHDoQ3HKhjpApGtEwwq6OkDY7kQVS+06QAxyRWeLIDtAQPVFuctTO0B0eEYLDIc7QKT7Rl1MujtA3H5Hr4ztO0AMAkgBzSA8QESFSFMNVDxAdAhJpU2HPECsi0n3jbo8QNwOSknO7TxAFJJKmw4hPUBEFUvtTlQ9QHyYSz+Phz1ArBtMkc+6PUDknkzjD+49QBQiTTVQIT5ATKVNh5BUPkB8KE7Z0Ic+QLSrTisRuz5A5C5PfVHuPkAcsk/PkSE/QEw1UCHSVD9AhLhQcxKIP0C0O1HFUrs/QOy+UReT7j9ADiGptOkQQECqYqndiSpAQEKkqQYqREBA3uWpL8pdQEB2J6pYandAQBJpqoEKkUBAqqqqqqqqQEBG7KrTSsRAQN4tq/zq3UBAem+rJYv3QEASsatOKxFBQK7yq3fLKkFARjSsoGtEQUDidazJC15BQHq3rPKrd0FAFvmsG0yRQUCuOq1E7KpBQEp8rW2MxEFA4r2tlizeQUB+/62/zPdBQBpBruhsEUJAsoKuEQ0rQkBOxK46rURCQOYFr2NNXkJAgkevjO13QkAaia+1jZFCQLbKr94tq0JATgywB87EQkDqTbAwbt5CQIKPsFkO+EJAHtGwgq4RQ0C2ErGrTitDQFJUsdTuRENA6pWx/Y5eQ0CG17EmL3hDQB4Zsk/PkUNAulqyeG+rQ0BSnLKhD8VDQO7dssqv3kNAhh+z80/4Q0AiYbMc8BFEQLqis0WQK0RAVuSzbjBFREDuJbSX0F5EQIpntMBweERAIqm06RCSREC+6rQSsatEQFYstTtRxURA8m21ZPHeRECKr7WNkfhEQCbxtbYxEkVAvjK239ErRUBadLYIckVFQPK1tjESX0VAjve2WrJ4RUAmObeDUpJFQMJ6t6zyq0VAWry31ZLFRUD2/bf+Mt9FQI4/uCfT+EVAKoG4UHMSRkDCwrh5EyxGQF4EuaKzRUZA9kW5y1NfRkCSh7n083hGQCrJuR2UkkZAxgq6RjSsRkBeTLpv1MVGQPqNuph030ZAks+6wRT5RkAuEbvqtBJHQMZSuxNVLEdAYpS7PPVFR0D61btllV9HQJYXvI41eUdALlm8t9WSR0DKmrzgdaxHQGLcvAkWxkdA/h29MrbfR0CWX71bVvlHQDKhvYT2EkhAyuK9rZYsSEBmJL7WNkZIQP5lvv/WX0hAmqe+KHd5SEAy6b5RF5NIQM4qv3q3rEhAZmy/o1fGSEACrr/M999IQJrvv/WX+UhANjHAHjgTSUDOcsBH2CxJQGq0wHB4RklAAvbAmRhgSUCeN8HCuHlJQDZ5wetYk0lA0rrBFPmsSUBq/ME9mcZJQAY+wmY54ElAnn/Cj9n5SUA6wcK4eRNKQNICw+EZLUpAbkTDCrpGSkAGhsMzWmBKQKLHw1z6eUpAOgnEhZqTSkDWSsSuOq1KQG6MxNfaxkpACs7EAHvgSkCiD8UpG/pKQD5RxVK7E0tA1pLFe1stS0By1MWk+0ZLQAoWxs2bYEtAplfG9jt6S0A+mcYf3JNLQNraxkh8rUtAchzHcRzHS0AOXseavOBLQKafx8Nc+ktAQuHH7PwTTEDaIsgVnS1MQHZkyD49R0xADqbIZ91gTECq58iQfXpMQEIpybkdlExA3mrJ4r2tTEB2rMkLXsdMQBLuyTT+4ExAqi/KXZ76TEBGccqGPhRNQN6yyq/eLU1AevTK2H5HTUASNssBH2FNQK53yyq/ek1ARrnLU1+UTUDi+st8/61NQHo8zKWfx01AFn7Mzj/hTUCuv8z33/pNQEoBzSCAFE5A4kLNSSAuTkB+hM1ywEdOQBbGzZtgYU5AsgfOxAB7TkBKSc7toJROQOaKzhZBrk5AfszOP+HHTkAaDs9ogeFOQLJPz5Eh+05ATpHPusEUT0Dm0s/jYS5PQIIU0AwCSE9AGlbQNaJhT0C2l9BeQntPQE7Z0IfilE9A6hrRsIKuT0CCXNHZIshPQB6e0QLD4U9Att/RK2P7T0CpEGmqgQpQQHUx6b5RF1BAQ1Jp0yEkUEAPc+nn8TBQQN2TafzBPVBAqbTpEJJKUEB31WklYldQQEP26TkyZFBAERdqTgJxUEDdN+pi0n1QQKtYaneiilBAd3nqi3KXUEBFmmqgQqRQQBG76rQSsVBA39tqyeK9UECr/OrdsspQQHkda/KC11BART7rBlPkUEATX2sbI/FQQN9/6y/z/VBAraBrRMMKUUB5wetYkxdRQEfia21jJFFAEwPsgTMxUUDhI2yWAz5RQK1E7KrTSlFAe2Vsv6NXUUBHhuzTc2RRQBWnbOhDcVFA4cfs/BN+UUCv6GwR5IpRQH0J7SW0l1FASSptOoSkUUAXS+1OVLFRQONrbWMkvlFAsYztd/TKUUB9rW2MxNdRQEvO7aCU5FFAF+9ttWTxUUDlD+7JNP5RQLEwbt4EC1JAf1Hu8tQXUkBLcm4HpSRSQBmT7ht1MVJA5bNuMEU+UkCz1O5EFUtSQH/1blnlV1JATRbvbbVkUkAZN2+ChXFSQOdX75ZVflJAs3hvqyWLUkCBme+/9ZdSQE26b9TFpFJAG9vv6JWxUkDn+2/9Zb5SQLUc8BE2y1JAgT1wJgbYUkBPXvA61uRSQBt/cE+m8VJA6Z/wY3b+UkC1wHB4RgtTQIPh8IwWGFNATwJxoeYkU0AdI/G1tjFTQOlDccqGPlNAt2Tx3lZLU0CDhXHzJlhTQFGm8Qf3ZFNAHcdxHMdxU0Dr5/Ewl35TQLcIckVni1NAhSnyWTeYU0BRSnJuB6VTQB9r8oLXsVNA64tyl6e+U0C5rPKrd8tTQIXNcsBH2FNAU+7y1BflU0AfD3Pp5/FTQO0v8/23/lNAuVBzEogLVECHcfMmWBhUQFOSczsoJVRAIbPzT/gxVEDt03NkyD5UQLv083iYS1RAhxV0jWhYVEBVNvShOGVUQCFXdLYIclRA73f0yth+VEC7mHTfqItUQIm59PN4mFRAVdp0CEmlVEAj+/QcGbJUQO8bdTHpvlRAvTz1RbnLVECJXXVaidhUQFd+9W5Z5VRAI591gynyVEDxv/WX+f5UQL3gdazJC1VAiwH2wJkYVUBXInbVaSVVQCVD9uk5MlVA8WN2/gk/VUC/hPYS2ktVQIuldieqWFVAWcb2O3plVUAl53ZQSnJVQPMH92Qaf1VAvyh3eeqLVUCNSfeNuphVQFlqd6KKpVVAJ4v3tlqyVUDzq3fLKr9VQMHM99/6y1VAje139MrYVUBbDvgIm+VVQCcveB1r8lVA9U/4MTv/VUDBcHhGCwxWQI+R+FrbGFZAW7J4b6slVkAp0/iDezJWQPXzeJhLP1ZAwxT5rBtMVkCPNXnB61hWQF1W+dW7ZVZAKXd56otyVkD3l/n+W39WQMO4eRMsjFZAkdn5J/yYVkBd+nk8zKVWQCsb+lCcslZA9zt6ZWy/VkDFXPp5PMxWQJF9eo4M2VZAX576otzlVkArv3q3rPJWQPnf+st8/1ZAxQB74EwMV0CTIfv0HBlXQF9CewntJVdALWP7Hb0yV0D5g3syjT9XQMek+0ZdTFdAk8V7Wy1ZV0Bh5vtv/WVXQC0HfITNcldA+yf8mJ1/V0DHSHytbYxXQJVp/ME9mVdAYYp81g2mV0Avq/zq3bJXQPvLfP+tv1dAyez8E37MV0CVDX0oTtlXQGMu/Twe5ldAL099Ue7yV0D9b/1lvv9XQMmQfXqODFhAl7H9jl4ZWEBj0n2jLiZYQDHz/bf+MlhA/RN+zM4/WEDLNP7gnkxYQJdVfvVuWVhAZXb+CT9mWEAxl34eD3NYQP+3/jLff1hAy9h+R6+MWECZ+f5bf5lYQGUaf3BPplhAMzv/hB+zWED/W3+Z779YQM18/62/zFhAmZ1/wo/ZWEBnvv/WX+ZYQDPff+sv81hAAQAAAAAAWUDNIIAU0AxZQJtBACmgGVlAZ2KAPXAmWUA=",
          "dtype": "f8"
         },
         "y": {
          "bdata": "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",
          "dtype": "f8"
         }
        },
        {
         "mode": "lines+markers",
         "name": "Gtf",
         "type": "scatter",
         "x": {
          "bdata": "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",
          "dtype": "f8"
         },
         "y": {
          "bdata": "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",
          "dtype": "f8"
         }
        }
       ],
       "layout": {
        "hovermode": "x",
        "template": {
         "data": {
          "bar": [
           {
            "error_x": {
             "color": "#2a3f5f"
            },
            "error_y": {
             "color": "#2a3f5f"
            },
            "marker": {
             "line": {
              "color": "white",
              "width": 0.5
             },
             "pattern": {
              "fillmode": "overlay",
              "size": 10,
              "solidity": 0.2
             }
            },
            "type": "bar"
           }
          ],
          "barpolar": [
           {
            "marker": {
             "line": {
              "color": "white",
              "width": 0.5
             },
             "pattern": {
              "fillmode": "overlay",
              "size": 10,
              "solidity": 0.2
             }
            },
            "type": "barpolar"
           }
          ],
          "carpet": [
           {
            "aaxis": {
             "endlinecolor": "#2a3f5f",
             "gridcolor": "#C8D4E3",
             "linecolor": "#C8D4E3",
             "minorgridcolor": "#C8D4E3",
             "startlinecolor": "#2a3f5f"
            },
            "baxis": {
             "endlinecolor": "#2a3f5f",
             "gridcolor": "#C8D4E3",
             "linecolor": "#C8D4E3",
             "minorgridcolor": "#C8D4E3",
             "startlinecolor": "#2a3f5f"
            },
            "type": "carpet"
           }
          ],
          "choropleth": [
           {
            "colorbar": {
             "outlinewidth": 0,
             "ticks": ""
            },
            "type": "choropleth"
           }
          ],
          "contour": [
           {
            "colorbar": {
             "outlinewidth": 0,
             "ticks": ""
            },
            "colorscale": [
             [
              0,
              "#0d0887"
             ],
             [
              0.1111111111111111,
              "#46039f"
             ],
             [
              0.2222222222222222,
              "#7201a8"
             ],
             [
              0.3333333333333333,
              "#9c179e"
             ],
             [
              0.4444444444444444,
              "#bd3786"
             ],
             [
              0.5555555555555556,
              "#d8576b"
             ],
             [
              0.6666666666666666,
              "#ed7953"
             ],
             [
              0.7777777777777778,
              "#fb9f3a"
             ],
             [
              0.8888888888888888,
              "#fdca26"
             ],
             [
              1,
              "#f0f921"
             ]
            ],
            "type": "contour"
           }
          ],
          "contourcarpet": [
           {
            "colorbar": {
             "outlinewidth": 0,
             "ticks": ""
            },
            "type": "contourcarpet"
           }
          ],
          "heatmap": [
           {
            "colorbar": {
             "outlinewidth": 0,
             "ticks": ""
            },
            "colorscale": [
             [
              0,
              "#0d0887"
             ],
             [
              0.1111111111111111,
              "#46039f"
             ],
             [
              0.2222222222222222,
              "#7201a8"
             ],
             [
              0.3333333333333333,
              "#9c179e"
             ],
             [
              0.4444444444444444,
              "#bd3786"
             ],
             [
              0.5555555555555556,
              "#d8576b"
             ],
             [
              0.6666666666666666,
              "#ed7953"
             ],
             [
              0.7777777777777778,
              "#fb9f3a"
             ],
             [
              0.8888888888888888,
              "#fdca26"
             ],
             [
              1,
              "#f0f921"
             ]
            ],
            "type": "heatmap"
           }
          ],
          "histogram": [
           {
            "marker": {
             "pattern": {
              "fillmode": "overlay",
              "size": 10,
              "solidity": 0.2
             }
            },
            "type": "histogram"
           }
          ],
          "histogram2d": [
           {
            "colorbar": {
             "outlinewidth": 0,
             "ticks": ""
            },
            "colorscale": [
             [
              0,
              "#0d0887"
             ],
             [
              0.1111111111111111,
              "#46039f"
             ],
             [
              0.2222222222222222,
              "#7201a8"
             ],
             [
              0.3333333333333333,
              "#9c179e"
             ],
             [
              0.4444444444444444,
              "#bd3786"
             ],
             [
              0.5555555555555556,
              "#d8576b"
             ],
             [
              0.6666666666666666,
              "#ed7953"
             ],
             [
              0.7777777777777778,
              "#fb9f3a"
             ],
             [
              0.8888888888888888,
              "#fdca26"
             ],
             [
              1,
              "#f0f921"
             ]
            ],
            "type": "histogram2d"
           }
          ],
          "histogram2dcontour": [
           {
            "colorbar": {
             "outlinewidth": 0,
             "ticks": ""
            },
            "colorscale": [
             [
              0,
              "#0d0887"
             ],
             [
              0.1111111111111111,
              "#46039f"
             ],
             [
              0.2222222222222222,
              "#7201a8"
             ],
             [
              0.3333333333333333,
              "#9c179e"
             ],
             [
              0.4444444444444444,
              "#bd3786"
             ],
             [
              0.5555555555555556,
              "#d8576b"
             ],
             [
              0.6666666666666666,
              "#ed7953"
             ],
             [
              0.7777777777777778,
              "#fb9f3a"
             ],
             [
              0.8888888888888888,
              "#fdca26"
             ],
             [
              1,
              "#f0f921"
             ]
            ],
            "type": "histogram2dcontour"
           }
          ],
          "mesh3d": [
           {
            "colorbar": {
             "outlinewidth": 0,
             "ticks": ""
            },
            "type": "mesh3d"
           }
          ],
          "parcoords": [
           {
            "line": {
             "colorbar": {
              "outlinewidth": 0,
              "ticks": ""
             }
            },
            "type": "parcoords"
           }
          ],
          "pie": [
           {
            "automargin": true,
            "type": "pie"
           }
          ],
          "scatter": [
           {
            "fillpattern": {
             "fillmode": "overlay",
             "size": 10,
             "solidity": 0.2
            },
            "type": "scatter"
           }
          ],
          "scatter3d": [
           {
            "line": {
             "colorbar": {
              "outlinewidth": 0,
              "ticks": ""
             }
            },
            "marker": {
             "colorbar": {
              "outlinewidth": 0,
              "ticks": ""
             }
            },
            "type": "scatter3d"
           }
          ],
          "scattercarpet": [
           {
            "marker": {
             "colorbar": {
              "outlinewidth": 0,
              "ticks": ""
             }
            },
            "type": "scattercarpet"
           }
          ],
          "scattergeo": [
           {
            "marker": {
             "colorbar": {
              "outlinewidth": 0,
              "ticks": ""
             }
            },
            "type": "scattergeo"
           }
          ],
          "scattergl": [
           {
            "marker": {
             "colorbar": {
              "outlinewidth": 0,
              "ticks": ""
             }
            },
            "type": "scattergl"
           }
          ],
          "scattermap": [
           {
            "marker": {
             "colorbar": {
              "outlinewidth": 0,
              "ticks": ""
             }
            },
            "type": "scattermap"
           }
          ],
          "scattermapbox": [
           {
            "marker": {
             "colorbar": {
              "outlinewidth": 0,
              "ticks": ""
             }
            },
            "type": "scattermapbox"
           }
          ],
          "scatterpolar": [
           {
            "marker": {
             "colorbar": {
              "outlinewidth": 0,
              "ticks": ""
             }
            },
            "type": "scatterpolar"
           }
          ],
          "scatterpolargl": [
           {
            "marker": {
             "colorbar": {
              "outlinewidth": 0,
              "ticks": ""
             }
            },
            "type": "scatterpolargl"
           }
          ],
          "scatterternary": [
           {
            "marker": {
             "colorbar": {
              "outlinewidth": 0,
              "ticks": ""
             }
            },
            "type": "scatterternary"
           }
          ],
          "surface": [
           {
            "colorbar": {
             "outlinewidth": 0,
             "ticks": ""
            },
            "colorscale": [
             [
              0,
              "#0d0887"
             ],
             [
              0.1111111111111111,
              "#46039f"
             ],
             [
              0.2222222222222222,
              "#7201a8"
             ],
             [
              0.3333333333333333,
              "#9c179e"
             ],
             [
              0.4444444444444444,
              "#bd3786"
             ],
             [
              0.5555555555555556,
              "#d8576b"
             ],
             [
              0.6666666666666666,
              "#ed7953"
             ],
             [
              0.7777777777777778,
              "#fb9f3a"
             ],
             [
              0.8888888888888888,
              "#fdca26"
             ],
             [
              1,
              "#f0f921"
             ]
            ],
            "type": "surface"
           }
          ],
          "table": [
           {
            "cells": {
             "fill": {
              "color": "#EBF0F8"
             },
             "line": {
              "color": "white"
             }
            },
            "header": {
             "fill": {
              "color": "#C8D4E3"
             },
             "line": {
              "color": "white"
             }
            },
            "type": "table"
           }
          ]
         },
         "layout": {
          "annotationdefaults": {
           "arrowcolor": "#2a3f5f",
           "arrowhead": 0,
           "arrowwidth": 1
          },
          "autotypenumbers": "strict",
          "coloraxis": {
           "colorbar": {
            "outlinewidth": 0,
            "ticks": ""
           }
          },
          "colorscale": {
           "diverging": [
            [
             0,
             "#8e0152"
            ],
            [
             0.1,
             "#c51b7d"
            ],
            [
             0.2,
             "#de77ae"
            ],
            [
             0.3,
             "#f1b6da"
            ],
            [
             0.4,
             "#fde0ef"
            ],
            [
             0.5,
             "#f7f7f7"
            ],
            [
             0.6,
             "#e6f5d0"
            ],
            [
             0.7,
             "#b8e186"
            ],
            [
             0.8,
             "#7fbc41"
            ],
            [
             0.9,
             "#4d9221"
            ],
            [
             1,
             "#276419"
            ]
           ],
           "sequential": [
            [
             0,
             "#0d0887"
            ],
            [
             0.1111111111111111,
             "#46039f"
            ],
            [
             0.2222222222222222,
             "#7201a8"
            ],
            [
             0.3333333333333333,
             "#9c179e"
            ],
            [
             0.4444444444444444,
             "#bd3786"
            ],
            [
             0.5555555555555556,
             "#d8576b"
            ],
            [
             0.6666666666666666,
             "#ed7953"
            ],
            [
             0.7777777777777778,
             "#fb9f3a"
            ],
            [
             0.8888888888888888,
             "#fdca26"
            ],
            [
             1,
             "#f0f921"
            ]
           ],
           "sequentialminus": [
            [
             0,
             "#0d0887"
            ],
            [
             0.1111111111111111,
             "#46039f"
            ],
            [
             0.2222222222222222,
             "#7201a8"
            ],
            [
             0.3333333333333333,
             "#9c179e"
            ],
            [
             0.4444444444444444,
             "#bd3786"
            ],
            [
             0.5555555555555556,
             "#d8576b"
            ],
            [
             0.6666666666666666,
             "#ed7953"
            ],
            [
             0.7777777777777778,
             "#fb9f3a"
            ],
            [
             0.8888888888888888,
             "#fdca26"
            ],
            [
             1,
             "#f0f921"
            ]
           ]
          },
          "colorway": [
           "#636efa",
           "#EF553B",
           "#00cc96",
           "#ab63fa",
           "#FFA15A",
           "#19d3f3",
           "#FF6692",
           "#B6E880",
           "#FF97FF",
           "#FECB52"
          ],
          "font": {
           "color": "#2a3f5f"
          },
          "geo": {
           "bgcolor": "white",
           "lakecolor": "white",
           "landcolor": "white",
           "showlakes": true,
           "showland": true,
           "subunitcolor": "#C8D4E3"
          },
          "hoverlabel": {
           "align": "left"
          },
          "hovermode": "closest",
          "mapbox": {
           "style": "light"
          },
          "paper_bgcolor": "white",
          "plot_bgcolor": "white",
          "polar": {
           "angularaxis": {
            "gridcolor": "#EBF0F8",
            "linecolor": "#EBF0F8",
            "ticks": ""
           },
           "bgcolor": "white",
           "radialaxis": {
            "gridcolor": "#EBF0F8",
            "linecolor": "#EBF0F8",
            "ticks": ""
           }
          },
          "scene": {
           "xaxis": {
            "backgroundcolor": "white",
            "gridcolor": "#DFE8F3",
            "gridwidth": 2,
            "linecolor": "#EBF0F8",
            "showbackground": true,
            "ticks": "",
            "zerolinecolor": "#EBF0F8"
           },
           "yaxis": {
            "backgroundcolor": "white",
            "gridcolor": "#DFE8F3",
            "gridwidth": 2,
            "linecolor": "#EBF0F8",
            "showbackground": true,
            "ticks": "",
            "zerolinecolor": "#EBF0F8"
           },
           "zaxis": {
            "backgroundcolor": "white",
            "gridcolor": "#DFE8F3",
            "gridwidth": 2,
            "linecolor": "#EBF0F8",
            "showbackground": true,
            "ticks": "",
            "zerolinecolor": "#EBF0F8"
           }
          },
          "shapedefaults": {
           "line": {
            "color": "#2a3f5f"
           }
          },
          "ternary": {
           "aaxis": {
            "gridcolor": "#DFE8F3",
            "linecolor": "#A2B1C6",
            "ticks": ""
           },
           "baxis": {
            "gridcolor": "#DFE8F3",
            "linecolor": "#A2B1C6",
            "ticks": ""
           },
           "bgcolor": "white",
           "caxis": {
            "gridcolor": "#DFE8F3",
            "linecolor": "#A2B1C6",
            "ticks": ""
           }
          },
          "title": {
           "x": 0.05
          },
          "xaxis": {
           "automargin": true,
           "gridcolor": "#EBF0F8",
           "linecolor": "#EBF0F8",
           "ticks": "",
           "title": {
            "standoff": 15
           },
           "zerolinecolor": "#EBF0F8",
           "zerolinewidth": 2
          },
          "yaxis": {
           "automargin": true,
           "gridcolor": "#EBF0F8",
           "linecolor": "#EBF0F8",
           "ticks": "",
           "title": {
            "standoff": 15
           },
           "zerolinecolor": "#EBF0F8",
           "zerolinewidth": 2
          }
         }
        },
        "title": {
         "text": "Gt and Filtered Gtf"
        },
        "xaxis": {
         "range": [
          -1,
          3
         ],
         "title": {
          "text": "x"
         },
         "type": "linear"
        },
        "yaxis": {
         "title": {
          "text": "y"
         }
        }
       }
      }
     },
     "metadata": {},
     "output_type": "display_data"
    }
   ],
   "source": [
    "fig = go.Figure()\n",
    "fig.add_trace(go.Scatter(x=r, y=Gt, name=\"Gt\", mode=\"lines+markers\"))\n",
    "fig.add_trace(go.Scatter(x=r, y=Gtf, name=\"Gtf\", mode=\"lines+markers\"))\n",
    "fig.update_layout(\n",
    "    title='Gt and Filtered Gtf',\n",
    "    xaxis=dict(title='x', type='linear'),  # use 'log' for log scale\n",
    "    yaxis=dict(title='y'),\n",
    "    xaxis_range=[-1,3],\n",
    "    hovermode='x',\n",
    "    template='plotly_white'\n",
    ")"
   ]
  },
  {
   "cell_type": "code",
   "execution_count": 27,
   "id": "0acfc5cb-3232-45a2-b7aa-94696f9bf5ca",
   "metadata": {
    "scrolled": true
   },
   "outputs": [
    {
     "data": {
      "application/vnd.plotly.v1+json": {
       "config": {
        "plotlyServerURL": "https://plot.ly"
       },
       "data": [
        {
         "mode": "lines+markers",
         "name": "Diff d_Gt",
         "type": "scatter",
         "x": {
          "bdata": "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",
          "dtype": "f8"
         },
         "y": {
          "bdata": "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",
          "dtype": "f8"
         }
        }
       ],
       "layout": {
        "hovermode": "x",
        "template": {
         "data": {
          "bar": [
           {
            "error_x": {
             "color": "#2a3f5f"
            },
            "error_y": {
             "color": "#2a3f5f"
            },
            "marker": {
             "line": {
              "color": "white",
              "width": 0.5
             },
             "pattern": {
              "fillmode": "overlay",
              "size": 10,
              "solidity": 0.2
             }
            },
            "type": "bar"
           }
          ],
          "barpolar": [
           {
            "marker": {
             "line": {
              "color": "white",
              "width": 0.5
             },
             "pattern": {
              "fillmode": "overlay",
              "size": 10,
              "solidity": 0.2
             }
            },
            "type": "barpolar"
           }
          ],
          "carpet": [
           {
            "aaxis": {
             "endlinecolor": "#2a3f5f",
             "gridcolor": "#C8D4E3",
             "linecolor": "#C8D4E3",
             "minorgridcolor": "#C8D4E3",
             "startlinecolor": "#2a3f5f"
            },
            "baxis": {
             "endlinecolor": "#2a3f5f",
             "gridcolor": "#C8D4E3",
             "linecolor": "#C8D4E3",
             "minorgridcolor": "#C8D4E3",
             "startlinecolor": "#2a3f5f"
            },
            "type": "carpet"
           }
          ],
          "choropleth": [
           {
            "colorbar": {
             "outlinewidth": 0,
             "ticks": ""
            },
            "type": "choropleth"
           }
          ],
          "contour": [
           {
            "colorbar": {
             "outlinewidth": 0,
             "ticks": ""
            },
            "colorscale": [
             [
              0,
              "#0d0887"
             ],
             [
              0.1111111111111111,
              "#46039f"
             ],
             [
              0.2222222222222222,
              "#7201a8"
             ],
             [
              0.3333333333333333,
              "#9c179e"
             ],
             [
              0.4444444444444444,
              "#bd3786"
             ],
             [
              0.5555555555555556,
              "#d8576b"
             ],
             [
              0.6666666666666666,
              "#ed7953"
             ],
             [
              0.7777777777777778,
              "#fb9f3a"
             ],
             [
              0.8888888888888888,
              "#fdca26"
             ],
             [
              1,
              "#f0f921"
             ]
            ],
            "type": "contour"
           }
          ],
          "contourcarpet": [
           {
            "colorbar": {
             "outlinewidth": 0,
             "ticks": ""
            },
            "type": "contourcarpet"
           }
          ],
          "heatmap": [
           {
            "colorbar": {
             "outlinewidth": 0,
             "ticks": ""
            },
            "colorscale": [
             [
              0,
              "#0d0887"
             ],
             [
              0.1111111111111111,
              "#46039f"
             ],
             [
              0.2222222222222222,
              "#7201a8"
             ],
             [
              0.3333333333333333,
              "#9c179e"
             ],
             [
              0.4444444444444444,
              "#bd3786"
             ],
             [
              0.5555555555555556,
              "#d8576b"
             ],
             [
              0.6666666666666666,
              "#ed7953"
             ],
             [
              0.7777777777777778,
              "#fb9f3a"
             ],
             [
              0.8888888888888888,
              "#fdca26"
             ],
             [
              1,
              "#f0f921"
             ]
            ],
            "type": "heatmap"
           }
          ],
          "histogram": [
           {
            "marker": {
             "pattern": {
              "fillmode": "overlay",
              "size": 10,
              "solidity": 0.2
             }
            },
            "type": "histogram"
           }
          ],
          "histogram2d": [
           {
            "colorbar": {
             "outlinewidth": 0,
             "ticks": ""
            },
            "colorscale": [
             [
              0,
              "#0d0887"
             ],
             [
              0.1111111111111111,
              "#46039f"
             ],
             [
              0.2222222222222222,
              "#7201a8"
             ],
             [
              0.3333333333333333,
              "#9c179e"
             ],
             [
              0.4444444444444444,
              "#bd3786"
             ],
             [
              0.5555555555555556,
              "#d8576b"
             ],
             [
              0.6666666666666666,
              "#ed7953"
             ],
             [
              0.7777777777777778,
              "#fb9f3a"
             ],
             [
              0.8888888888888888,
              "#fdca26"
             ],
             [
              1,
              "#f0f921"
             ]
            ],
            "type": "histogram2d"
           }
          ],
          "histogram2dcontour": [
           {
            "colorbar": {
             "outlinewidth": 0,
             "ticks": ""
            },
            "colorscale": [
             [
              0,
              "#0d0887"
             ],
             [
              0.1111111111111111,
              "#46039f"
             ],
             [
              0.2222222222222222,
              "#7201a8"
             ],
             [
              0.3333333333333333,
              "#9c179e"
             ],
             [
              0.4444444444444444,
              "#bd3786"
             ],
             [
              0.5555555555555556,
              "#d8576b"
             ],
             [
              0.6666666666666666,
              "#ed7953"
             ],
             [
              0.7777777777777778,
              "#fb9f3a"
             ],
             [
              0.8888888888888888,
              "#fdca26"
             ],
             [
              1,
              "#f0f921"
             ]
            ],
            "type": "histogram2dcontour"
           }
          ],
          "mesh3d": [
           {
            "colorbar": {
             "outlinewidth": 0,
             "ticks": ""
            },
            "type": "mesh3d"
           }
          ],
          "parcoords": [
           {
            "line": {
             "colorbar": {
              "outlinewidth": 0,
              "ticks": ""
             }
            },
            "type": "parcoords"
           }
          ],
          "pie": [
           {
            "automargin": true,
            "type": "pie"
           }
          ],
          "scatter": [
           {
            "fillpattern": {
             "fillmode": "overlay",
             "size": 10,
             "solidity": 0.2
            },
            "type": "scatter"
           }
          ],
          "scatter3d": [
           {
            "line": {
             "colorbar": {
              "outlinewidth": 0,
              "ticks": ""
             }
            },
            "marker": {
             "colorbar": {
              "outlinewidth": 0,
              "ticks": ""
             }
            },
            "type": "scatter3d"
           }
          ],
          "scattercarpet": [
           {
            "marker": {
             "colorbar": {
              "outlinewidth": 0,
              "ticks": ""
             }
            },
            "type": "scattercarpet"
           }
          ],
          "scattergeo": [
           {
            "marker": {
             "colorbar": {
              "outlinewidth": 0,
              "ticks": ""
             }
            },
            "type": "scattergeo"
           }
          ],
          "scattergl": [
           {
            "marker": {
             "colorbar": {
              "outlinewidth": 0,
              "ticks": ""
             }
            },
            "type": "scattergl"
           }
          ],
          "scattermap": [
           {
            "marker": {
             "colorbar": {
              "outlinewidth": 0,
              "ticks": ""
             }
            },
            "type": "scattermap"
           }
          ],
          "scattermapbox": [
           {
            "marker": {
             "colorbar": {
              "outlinewidth": 0,
              "ticks": ""
             }
            },
            "type": "scattermapbox"
           }
          ],
          "scatterpolar": [
           {
            "marker": {
             "colorbar": {
              "outlinewidth": 0,
              "ticks": ""
             }
            },
            "type": "scatterpolar"
           }
          ],
          "scatterpolargl": [
           {
            "marker": {
             "colorbar": {
              "outlinewidth": 0,
              "ticks": ""
             }
            },
            "type": "scatterpolargl"
           }
          ],
          "scatterternary": [
           {
            "marker": {
             "colorbar": {
              "outlinewidth": 0,
              "ticks": ""
             }
            },
            "type": "scatterternary"
           }
          ],
          "surface": [
           {
            "colorbar": {
             "outlinewidth": 0,
             "ticks": ""
            },
            "colorscale": [
             [
              0,
              "#0d0887"
             ],
             [
              0.1111111111111111,
              "#46039f"
             ],
             [
              0.2222222222222222,
              "#7201a8"
             ],
             [
              0.3333333333333333,
              "#9c179e"
             ],
             [
              0.4444444444444444,
              "#bd3786"
             ],
             [
              0.5555555555555556,
              "#d8576b"
             ],
             [
              0.6666666666666666,
              "#ed7953"
             ],
             [
              0.7777777777777778,
              "#fb9f3a"
             ],
             [
              0.8888888888888888,
              "#fdca26"
             ],
             [
              1,
              "#f0f921"
             ]
            ],
            "type": "surface"
           }
          ],
          "table": [
           {
            "cells": {
             "fill": {
              "color": "#EBF0F8"
             },
             "line": {
              "color": "white"
             }
            },
            "header": {
             "fill": {
              "color": "#C8D4E3"
             },
             "line": {
              "color": "white"
             }
            },
            "type": "table"
           }
          ]
         },
         "layout": {
          "annotationdefaults": {
           "arrowcolor": "#2a3f5f",
           "arrowhead": 0,
           "arrowwidth": 1
          },
          "autotypenumbers": "strict",
          "coloraxis": {
           "colorbar": {
            "outlinewidth": 0,
            "ticks": ""
           }
          },
          "colorscale": {
           "diverging": [
            [
             0,
             "#8e0152"
            ],
            [
             0.1,
             "#c51b7d"
            ],
            [
             0.2,
             "#de77ae"
            ],
            [
             0.3,
             "#f1b6da"
            ],
            [
             0.4,
             "#fde0ef"
            ],
            [
             0.5,
             "#f7f7f7"
            ],
            [
             0.6,
             "#e6f5d0"
            ],
            [
             0.7,
             "#b8e186"
            ],
            [
             0.8,
             "#7fbc41"
            ],
            [
             0.9,
             "#4d9221"
            ],
            [
             1,
             "#276419"
            ]
           ],
           "sequential": [
            [
             0,
             "#0d0887"
            ],
            [
             0.1111111111111111,
             "#46039f"
            ],
            [
             0.2222222222222222,
             "#7201a8"
            ],
            [
             0.3333333333333333,
             "#9c179e"
            ],
            [
             0.4444444444444444,
             "#bd3786"
            ],
            [
             0.5555555555555556,
             "#d8576b"
            ],
            [
             0.6666666666666666,
             "#ed7953"
            ],
            [
             0.7777777777777778,
             "#fb9f3a"
            ],
            [
             0.8888888888888888,
             "#fdca26"
            ],
            [
             1,
             "#f0f921"
            ]
           ],
           "sequentialminus": [
            [
             0,
             "#0d0887"
            ],
            [
             0.1111111111111111,
             "#46039f"
            ],
            [
             0.2222222222222222,
             "#7201a8"
            ],
            [
             0.3333333333333333,
             "#9c179e"
            ],
            [
             0.4444444444444444,
             "#bd3786"
            ],
            [
             0.5555555555555556,
             "#d8576b"
            ],
            [
             0.6666666666666666,
             "#ed7953"
            ],
            [
             0.7777777777777778,
             "#fb9f3a"
            ],
            [
             0.8888888888888888,
             "#fdca26"
            ],
            [
             1,
             "#f0f921"
            ]
           ]
          },
          "colorway": [
           "#636efa",
           "#EF553B",
           "#00cc96",
           "#ab63fa",
           "#FFA15A",
           "#19d3f3",
           "#FF6692",
           "#B6E880",
           "#FF97FF",
           "#FECB52"
          ],
          "font": {
           "color": "#2a3f5f"
          },
          "geo": {
           "bgcolor": "white",
           "lakecolor": "white",
           "landcolor": "white",
           "showlakes": true,
           "showland": true,
           "subunitcolor": "#C8D4E3"
          },
          "hoverlabel": {
           "align": "left"
          },
          "hovermode": "closest",
          "mapbox": {
           "style": "light"
          },
          "paper_bgcolor": "white",
          "plot_bgcolor": "white",
          "polar": {
           "angularaxis": {
            "gridcolor": "#EBF0F8",
            "linecolor": "#EBF0F8",
            "ticks": ""
           },
           "bgcolor": "white",
           "radialaxis": {
            "gridcolor": "#EBF0F8",
            "linecolor": "#EBF0F8",
            "ticks": ""
           }
          },
          "scene": {
           "xaxis": {
            "backgroundcolor": "white",
            "gridcolor": "#DFE8F3",
            "gridwidth": 2,
            "linecolor": "#EBF0F8",
            "showbackground": true,
            "ticks": "",
            "zerolinecolor": "#EBF0F8"
           },
           "yaxis": {
            "backgroundcolor": "white",
            "gridcolor": "#DFE8F3",
            "gridwidth": 2,
            "linecolor": "#EBF0F8",
            "showbackground": true,
            "ticks": "",
            "zerolinecolor": "#EBF0F8"
           },
           "zaxis": {
            "backgroundcolor": "white",
            "gridcolor": "#DFE8F3",
            "gridwidth": 2,
            "linecolor": "#EBF0F8",
            "showbackground": true,
            "ticks": "",
            "zerolinecolor": "#EBF0F8"
           }
          },
          "shapedefaults": {
           "line": {
            "color": "#2a3f5f"
           }
          },
          "ternary": {
           "aaxis": {
            "gridcolor": "#DFE8F3",
            "linecolor": "#A2B1C6",
            "ticks": ""
           },
           "baxis": {
            "gridcolor": "#DFE8F3",
            "linecolor": "#A2B1C6",
            "ticks": ""
           },
           "bgcolor": "white",
           "caxis": {
            "gridcolor": "#DFE8F3",
            "linecolor": "#A2B1C6",
            "ticks": ""
           }
          },
          "title": {
           "x": 0.05
          },
          "xaxis": {
           "automargin": true,
           "gridcolor": "#EBF0F8",
           "linecolor": "#EBF0F8",
           "ticks": "",
           "title": {
            "standoff": 15
           },
           "zerolinecolor": "#EBF0F8",
           "zerolinewidth": 2
          },
          "yaxis": {
           "automargin": true,
           "gridcolor": "#EBF0F8",
           "linecolor": "#EBF0F8",
           "ticks": "",
           "title": {
            "standoff": 15
           },
           "zerolinecolor": "#EBF0F8",
           "zerolinewidth": 2
          }
         }
        },
        "title": {
         "text": "d_Gt - d_Gtf"
        },
        "xaxis": {
         "range": [
          -1,
          3
         ],
         "title": {
          "text": "x"
         },
         "type": "linear"
        },
        "yaxis": {
         "title": {
          "text": "y"
         }
        }
       }
      }
     },
     "metadata": {},
     "output_type": "display_data"
    }
   ],
   "source": [
    "dd = d_Gt - d_Gtf\n",
    "fig = go.Figure()\n",
    "fig.add_trace(go.Scatter(x=r, y=dd, name=\"Diff d_Gt\", mode=\"lines+markers\"))\n",
    "\n",
    "fig.update_layout(\n",
    "    title='d_Gt - d_Gtf',\n",
    "    xaxis=dict(title='x', type='linear'),  # use 'log' for log scale\n",
    "    yaxis=dict(title='y'),\n",
    "    xaxis_range=[-1,3],\n",
    "    hovermode='x',\n",
    "    template='plotly_white'\n",
    ")"
   ]
  },
  {
   "cell_type": "code",
   "execution_count": null,
   "id": "fce1f177-682c-4d14-8de0-2beebf38283c",
   "metadata": {},
   "outputs": [],
   "source": []
  }
 ],
 "metadata": {
  "kernelspec": {
   "display_name": "py3",
   "language": "python",
   "name": "python3"
  },
  "language_info": {
   "codemirror_mode": {
    "name": "ipython",
    "version": 3
   },
   "file_extension": ".py",
   "mimetype": "text/x-python",
   "name": "python",
   "nbconvert_exporter": "python",
   "pygments_lexer": "ipython3",
   "version": "3.13.3"
  }
 },
 "nbformat": 4,
 "nbformat_minor": 5
}
