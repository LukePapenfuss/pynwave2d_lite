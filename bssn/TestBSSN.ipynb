{
 "cells": [
  {
   "cell_type": "code",
   "execution_count": null,
   "id": "05511537-fadc-4afd-bffa-71ca88400cda",
   "metadata": {},
   "outputs": [],
   "source": [
    "import numpy as np\n",
    "import sys\n",
    "import os\n",
    "import csv"
   ]
  },
  {
   "cell_type": "code",
   "execution_count": null,
   "id": "799da9a7-93c0-4dae-8b4b-90c516bf0de1",
   "metadata": {},
   "outputs": [],
   "source": [
    "import matplotlib.pyplot as plt\n",
    "#import matplotlib_inline\n",
    "#%matplotlib ipympl"
   ]
  },
  {
   "cell_type": "code",
   "execution_count": null,
   "id": "daae1c60-3b51-417e-9813-3b2b0e67d515",
   "metadata": {},
   "outputs": [],
   "source": [
    "sys.path.append(os.path.abspath(os.path.join(\".\", \"..\")))\n",
    "import bssneqs as bssn\n",
    "import tomllib\n",
    "from nwave import *\n"
   ]
  },
  {
   "cell_type": "code",
   "execution_count": null,
   "id": "3c26c6dd-fc13-4ccb-8e02-a5818d74cde7",
   "metadata": {},
   "outputs": [],
   "source": [
    "with open(\"params.toml\", \"rb\") as f:\n",
    "    params = tomllib.load(f)"
   ]
  },
  {
   "cell_type": "code",
   "execution_count": null,
   "id": "9887fc08-c13d-4915-9b98-ad37d6868522",
   "metadata": {},
   "outputs": [],
   "source": [
    "# Set up grid\n",
    "if \"Xmin\" in params and params[\"Xmin\"] < 0.0:\n",
    "    extended_domain = True\n",
    "    cellgrid = False\n",
    "    if params[\"Nx\"] % 2 != 0:\n",
    "        params[\"Nx\"] += 1\n",
    "        print(f\"Adjusted Nx to {params['Nx']} (must be even)\")\n",
    "else:\n",
    "    extended_domain = False\n",
    "    cellgrid = True\n",
    "\n",
    "nghost = params[\"NGhost\"]\n",
    "g = Grid1D(params, cell_centered=cellgrid)"
   ]
  },
  {
   "cell_type": "code",
   "execution_count": null,
   "id": "70d046d2-5268-4080-b402-bc5887150cfa",
   "metadata": {},
   "outputs": [],
   "source": [
    "r = g.xi[0]\n",
    "dr = g.dx[0]\n",
    "if params[\"D1\"] == \"E4\":\n",
    "    D1 = ExplicitFirst44_1D(dr)\n",
    "    g.set_D1(D1)\n",
    "elif params[\"D1\"] == \"E6\":\n",
    "    D1 = ExplicitFirst642_1D(dr)\n",
    "    g.set_D1(D1)\n",
    "elif params[\"D1\"] == \"JP6\":\n",
    "    #D1 = CompactFirst1D(r, \"D1_JTP6\", method=\"LUSOLVE\")\n",
    "    D1 = CompactFirst1D(r, \"D1_JTP6\", method=\"SCIPY\")\n",
    "    g.set_D1(D1)\n",
    "elif params[\"D1\"] == \"KP4\":\n",
    "    # D1 = CompactFirst1D(r, \"D1_KP4\", method=\"LUSOLVE\")\n",
    "    D1 = CompactFirst1D(r, \"D1_KP4\", method=\"SCIPY\")\n",
    "    g.set_D1(D1)\n",
    "else:\n",
    "    raise NotImplementedError(\"D1 = { E4, E6, JP6, KP4 }\")"
   ]
  },
  {
   "cell_type": "code",
   "execution_count": null,
   "id": "6402d2a7-951b-441c-81ab-0bed980ea4f0",
   "metadata": {},
   "outputs": [],
   "source": [
    "if params[\"D2\"] == \"E4\":\n",
    "    D2 = ExplicitSecond44_1D(dr)\n",
    "    g.set_D2(D2)\n",
    "elif params[\"D2\"] == \"E6\":\n",
    "    D2 = ExplicitSecond642_1D(dr)\n",
    "    g.set_D2(D2)\n",
    "elif params[\"D2\"] == \"JP6\":\n",
    "    # D2 = CompactSecond1D(r, \"D2_JTP6\", method=\"LUSOLVE\")\n",
    "    D2 = CompactSecond1D(r, \"D2_JTP6\", method=\"LUSOLVE\")\n",
    "    g.set_D2(D2)\n",
    "else:\n",
    "    raise NotImplementedError(\"D2 = { E4, E6, JP6 }\")"
   ]
  },
  {
   "cell_type": "code",
   "execution_count": null,
   "id": "7faa2b5c-2599-4d7b-8fb1-1a75d7d192af",
   "metadata": {},
   "outputs": [],
   "source": [
    "if \"Filter\" in params:\n",
    "    sigma = params.get(\"KOsigma\", 0.1)\n",
    "    apply_diss_boundaries = params.get(\"ApplyDissBounds\", False)\n",
    "    if params[\"Filter\"] == \"KO6\":\n",
    "        bssn_filter = KreissOligerFilterO6_1D(dr, sigma, apply_diss_boundaries)\n",
    "        g.set_filter(bssn_filter)\n",
    "    elif params[\"Filter\"] == \"KO8\":\n",
    "        bssn_filter = KreissOligerFilterO8_1D(dr, sigma, apply_diss_boundaries=True)\n",
    "        g.set_filter(bssn_filter)\n",
    "    else:\n",
    "        raise NotImplementedError(\"Filter = { KO6, KO8 }\")"
   ]
  },
  {
   "cell_type": "code",
   "execution_count": null,
   "id": "6dc3e564-a851-4d26-bc94-334300784894",
   "metadata": {},
   "outputs": [],
   "source": [
    "# GBSSN system: (sys, lapse advection, shift advection)\n",
    "#    sys = 0 (Eulerian), 1 (Lagrangian)\n",
    "sys = bssn.GBSSNSystem(1, 1, 1)\n",
    "eqs = bssn.BSSN(\n",
    "    g, params[\"Mass\"], params[\"eta\"], extended_domain, \"FUNCTION\", sys, have_d2=True\n",
    ")\n",
    "eqs.initialize(g, params)\n",
    "\n",
    "eqs.cal_constraints(eqs.u, g)"
   ]
  },
  {
   "cell_type": "code",
   "execution_count": null,
   "id": "237f7d81-6d3e-4696-aaf1-c9e6a95c75d6",
   "metadata": {},
   "outputs": [],
   "source": [
    "ED1 = ExplicitFirst642_1D(dr)\n",
    "ED2 = ExplicitSecond642_1D(dr)"
   ]
  },
  {
   "cell_type": "code",
   "execution_count": null,
   "id": "e14ff6c0-c339-4e2b-98f9-3c74a73f4b3c",
   "metadata": {},
   "outputs": [],
   "source": [
    "ed_chi = ED1.grad(eqs.u[eqs.U_CHI])\n",
    "ed_g_rr = ED1.grad(eqs.u[eqs.U_GRR])\n",
    "ed_g_tt = ED1.grad(eqs.u[eqs.U_GTT])\n",
    "ed_A_rr = ED1.grad(eqs.u[eqs.U_ARR])\n",
    "ed_K = ED1.grad(eqs.u[eqs.U_K])\n",
    "ed2_chi = ED2.grad2(eqs.u[eqs.U_CHI])\n",
    "ed2_g_tt = ED2.grad2(eqs.u[eqs.U_GTT])"
   ]
  },
  {
   "cell_type": "code",
   "execution_count": null,
   "id": "310ac474-b563-478b-89ef-5e941ce07f8a",
   "metadata": {},
   "outputs": [],
   "source": [
    "d_chi = D1.grad(eqs.u[eqs.U_CHI])\n",
    "d_g_rr = D1.grad(eqs.u[eqs.U_GRR])\n",
    "d_g_tt = D1.grad(eqs.u[eqs.U_GTT])\n",
    "d_A_rr = D1.grad(eqs.u[eqs.U_ARR])\n",
    "d_K = D1.grad(eqs.u[eqs.U_K])\n",
    "d2_chi = D2.grad2(eqs.u[eqs.U_CHI])\n",
    "d2_g_tt = D2.grad2(eqs.u[eqs.U_GTT])"
   ]
  },
  {
   "cell_type": "code",
   "execution_count": null,
   "id": "10136f60-6f2c-419b-bf55-2f4e38a9e447",
   "metadata": {},
   "outputs": [],
   "source": [
    "plt.plot(r,d_g_tt,'.-',label='d_gtt')\n",
    "plt.plot(r,ed_g_tt,'-',label='ed_gtt')\n",
    "plt.legend()"
   ]
  },
  {
   "cell_type": "code",
   "execution_count": null,
   "id": "f15b6ad8-8fc7-41b2-8159-74d77a27cad4",
   "metadata": {},
   "outputs": [],
   "source": [
    "plt.plot(r,d2_g_tt,'.-',label='d_gtt')\n",
    "plt.plot(r,ed2_g_tt,'^',label='ed_gtt')\n",
    "plt.legend()"
   ]
  },
  {
   "cell_type": "code",
   "execution_count": null,
   "id": "ae3a6579-23b0-489c-8a41-42542eac13df",
   "metadata": {},
   "outputs": [],
   "source": [
    "plt.plot(r, eqs.C[eqs.C_HAM],'^-',label='CHAM')\n",
    "plt.legend()"
   ]
  },
  {
   "cell_type": "code",
   "execution_count": null,
   "id": "812a21db-61f1-4345-b424-1458ca534a88",
   "metadata": {},
   "outputs": [],
   "source": [
    "nx = params[\"Nx\"]\n",
    "alpha = 0.4\n",
    "beta = 0.4\n",
    "Pb, Q = init_JT_filter(FilterType.JTP8, alpha, beta, nx)"
   ]
  },
  {
   "cell_type": "code",
   "execution_count": null,
   "id": "503cecaa-3949-459d-afd0-31533d0b7a35",
   "metadata": {},
   "outputs": [],
   "source": [
    "Pb"
   ]
  },
  {
   "cell_type": "code",
   "execution_count": null,
   "id": "676dfaf2-48a1-45f9-8203-4240bdcf2313",
   "metadata": {},
   "outputs": [],
   "source": [
    "Q"
   ]
  },
  {
   "cell_type": "code",
   "execution_count": null,
   "id": "4c010738-f851-4f69-9fb2-fb778b6fa6f1",
   "metadata": {},
   "outputs": [],
   "source": [
    "banded_to_full(Pb, 2, 2, nx, nx)"
   ]
  },
  {
   "cell_type": "code",
   "execution_count": null,
   "id": "c198acdc-c8b7-4721-b40e-2c57cced1aaf",
   "metadata": {},
   "outputs": [],
   "source": [
    "f = 1/r"
   ]
  },
  {
   "cell_type": "code",
   "execution_count": null,
   "id": "3d5e9e02-eabc-41a5-83e5-051f96ed42fa",
   "metadata": {},
   "outputs": [],
   "source": [
    "fn = f + 0.001*np.sin(100.0*r)"
   ]
  },
  {
   "cell_type": "code",
   "execution_count": null,
   "id": "a0d89d6a-6a8d-4e26-b807-d7b057261194",
   "metadata": {},
   "outputs": [],
   "source": [
    "plt.plot(r, f,label='f')\n",
    "plt.plot(r, fn,label='fn')\n",
    "plt.legend()"
   ]
  },
  {
   "cell_type": "code",
   "execution_count": null,
   "id": "72b67a74-4436-4715-bdc3-109186c75be5",
   "metadata": {},
   "outputs": [],
   "source": []
  }
 ],
 "metadata": {
  "kernelspec": {
   "display_name": "py3",
   "language": "python",
   "name": "python3"
  },
  "language_info": {
   "codemirror_mode": {
    "name": "ipython",
    "version": 3
   },
   "file_extension": ".py",
   "mimetype": "text/x-python",
   "name": "python",
   "nbconvert_exporter": "python",
   "pygments_lexer": "ipython3",
   "version": "3.13.3"
  }
 },
 "nbformat": 4,
 "nbformat_minor": 5
}
